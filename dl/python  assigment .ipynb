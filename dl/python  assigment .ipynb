{
 "cells": [
  {
   "cell_type": "code",
   "execution_count": 1,
   "id": "0bae3e25",
   "metadata": {},
   "outputs": [
    {
     "name": "stdout",
     "output_type": "stream",
     "text": [
      "enter the marks:85\n",
      "enter the marks:92\n",
      "enter the marks:75\n",
      "enter the marks:60\n",
      "enter the marks:45\n",
      "enter the marks:105\n",
      "[85, 92, 75, 60, 45, 105]\n",
      "['B', 'A', 'C', 'D', 'F', 'invalid ']\n"
     ]
    }
   ],
   "source": [
    "\n",
    "##calculate grades\n",
    "\n",
    "result =[]\n",
    "def calculated_grades(result):\n",
    "    grades =[]\n",
    "    for i in result:\n",
    "        if (i>=90 and i<=100):\n",
    "            grades.append('A')\n",
    "        elif (i>=80 and i<=89):\n",
    "            grades.append('B')\n",
    "        elif (i>=70 and i<=79):\n",
    "            grades.append('C')\n",
    "        elif (i>=60 and i<=69):\n",
    "            grades.append('D')\n",
    "        elif (i>0 and i<=59):\n",
    "            grades.append('F')\n",
    "        else:\n",
    "            grades.append(\"invalid \")\n",
    "    return grades\n",
    "s =6\n",
    "i = 0\n",
    "while i<s:\n",
    "    marks =int(input(\"enter the marks:\"))\n",
    "    result.append(marks)\n",
    "    i+=1\n",
    "print(result)\n",
    "grades=calculated_grades(result)\n",
    "print(grades)"
   ]
  },
  {
   "cell_type": "code",
   "execution_count": 2,
   "id": "54b90d55",
   "metadata": {},
   "outputs": [
    {
     "name": "stdout",
     "output_type": "stream",
     "text": [
      "['B', 'A', 'C', 'D', 'F', 'C', 'A', 'B', 'F', 'C', 'D', 'C', 'B', 'A', 'F']\n",
      "['B', 'A', 'C', 'D', 'F']\n",
      "['C', 'A', 'B', 'F', 'C']\n",
      "['D', 'C', 'B', 'A', 'F']\n"
     ]
    }
   ],
   "source": [
    "##2D Array of Grades\n",
    "\n",
    "matrix = [\n",
    "          [85,92,75,60,45],\n",
    "          [78,96,88,55,70],\n",
    "          [68,72,81,91,57]\n",
    "         ]\n",
    "          \n",
    "def calculate_2D_grades(grades):\n",
    "    grades =[]\n",
    "    for row in matrix:\n",
    "        \n",
    "        for i in row:\n",
    "            \n",
    "            \n",
    "            if (i>=90 and i<=100):\n",
    "                 \n",
    "                grades.append('A')\n",
    "            elif (i>=80 and i<=89):\n",
    "                grades.append('B')\n",
    "            elif (i>=70 and i<=79):\n",
    "                grades.append('C')\n",
    "            elif (i>=60 and i<=69):\n",
    "                grades.append('D')\n",
    "            elif (i>0 and i<=59):\n",
    "                grades.append('F')\n",
    "            else:\n",
    "                grades.append(\"invalid \")\n",
    "    return grades\n",
    "\n",
    "grades=calculate_2D_grades(result)\n",
    "print(grades)\n",
    "# Define the number of rows and columns for the matrix\n",
    "num_rows = 3\n",
    "num_columns = 5\n",
    "\n",
    "# Create an empty matrix (2D list)\n",
    "matrix = []\n",
    "\n",
    "# Fill the matrix with elements from the 1D list\n",
    "for i in range(num_rows):\n",
    "    \n",
    "    row = grades[i * num_columns:(i + 1) * num_columns]\n",
    "    matrix.append(row)\n",
    "\n",
    "# Print the resulting matrix\n",
    "for row in matrix:\n",
    "    \n",
    "    print(row)\n"
   ]
  },
  {
   "cell_type": "code",
   "execution_count": 3,
   "id": "8cdb1031",
   "metadata": {},
   "outputs": [
    {
     "name": "stdout",
     "output_type": "stream",
     "text": [
      "enter your password:123ASDF\n",
      "password is: 123ASDF\n",
      "no enter 8 digit password\n",
      "password is comman , enter another one\n",
      "password is comman , enter another one\n",
      "password is comman , enter another one\n",
      "valid, Special char exist\n",
      "valid, digit present\n"
     ]
    }
   ],
   "source": [
    "##strong password checker\n",
    "\n",
    "def is_strong_password(password):\n",
    "    \n",
    "# check lenth, lower and upper case password    \n",
    "        if (len(password)>=8):\n",
    "            print(\"lenght is ok\")\n",
    "            \n",
    "        else:\n",
    "            print(\"no enter 8 digit password\")\n",
    "\n",
    "            \n",
    "\n",
    "# enter your password        \n",
    "password=input(\"enter your password:\")\n",
    "print(\"password is:\", password)\n",
    "is_strong_password(password)\n",
    "\n",
    "# not allows common password              \n",
    "common_password= [\"Passw0rd!\",\"Secr3t!\",\"P@sswOrd\"] \n",
    "for password in common_password:\n",
    "    \n",
    "    if(password == password):\n",
    "        \n",
    "        print(\"password is comman , enter another one\")\n",
    "    else:\n",
    "        print(\"password is valid ,unique \")\n",
    "    \n",
    "    \n",
    "# allows special character                \n",
    "special_char = ['@','#','$','%','^','&','*','()','<>','?']\n",
    "\n",
    "\n",
    "if any(char in password for char in special_char):\n",
    "     print(\"valid, Special char exist\")\n",
    "           \n",
    "    \n",
    "else:\n",
    "    print(\"invalid, special char do not exist\")\n",
    "    \n",
    "# check at least one digit in password\n",
    "digits = ['1','2','3','4','5','6','7','8','9','0']\n",
    " \n",
    "if( digit in digits for digit in password):\n",
    "    print(\"valid, digit present\") \n",
    "else:\n",
    "     print(\"invalid, add digits\")                                          "
   ]
  },
  {
   "cell_type": "code",
   "execution_count": 1,
   "id": "4c291ff8",
   "metadata": {},
   "outputs": [
    {
     "name": "stdout",
     "output_type": "stream",
     "text": [
      "enter the max_value:100\n",
      "enter the min_value:0\n",
      "no numeric\n",
      "there is no fruit item\n",
      "there is no fruit item\n",
      "no numeric\n",
      "there is no fruit item\n",
      "([314], ['apple', 'banana'])\n"
     ]
    }
   ],
   "source": [
    "\n",
    "# Data quality check\n",
    "def numeric_data_quality_check(data_set, max_value, min_value):\n",
    "    max_value=int(input(\"enter the max_value:\"))\n",
    "    min_value=int(input(\"enter the min_value:\"))\n",
    "    numeric=[]\n",
    "    fruits=[]\n",
    "    for item in data_set:\n",
    "        \n",
    "        \n",
    "    \n",
    "        if  type(item)==int:\n",
    "            if item >max_value:\n",
    "                numeric.append(item)\n",
    "            else:       \n",
    "                print(\"no numeric\")\n",
    "        if type(item)==str:\n",
    "            fruits.append(item)\n",
    "\n",
    "        else:\n",
    "            print(\"there is no fruit item\")       \n",
    "            \n",
    "    return numeric ,fruits\n",
    "data_set=[42,314,55,'apple','banana']\n",
    "\n",
    "print(numeric_data_quality_check(data_set, max_value= None, min_value = None))"
   ]
  },
  {
   "cell_type": "code",
   "execution_count": 5,
   "id": "57dbe67d",
   "metadata": {
    "scrolled": true
   },
   "outputs": [
    {
     "data": {
      "text/plain": [
       "['purple']"
      ]
     },
     "execution_count": 5,
     "metadata": {},
     "output_type": "execute_result"
    }
   ],
   "source": [
    "def categorical_data_quality_check(data, unique_values):\n",
    "    unique_value=[]\n",
    "    for color in data:\n",
    "        if color not in unique_values:\n",
    "            unique_value.append(color)\n",
    "       \n",
    "    return unique_value\n",
    "        \n",
    "\n",
    "data= [\"red\",\"blue\",\"green\",\"yellow\",\"purple\"]\n",
    "unique_values =[\"red\",\"blue\",\"green\",\"yellow\",]\n",
    "categorical_data_quality_check(data, unique_values)"
   ]
  },
  {
   "cell_type": "code",
   "execution_count": 10,
   "id": "0d168da8",
   "metadata": {},
   "outputs": [
    {
     "name": "stdout",
     "output_type": "stream",
     "text": [
      "Data: [234, 235, 236, 237, 238, 239, 249, 320, 340, 350]\n",
      "mean: 267.8\n",
      "variance: 2094.3599999999997\n",
      "standard devaition: 45.76417813093555\n",
      "Z-score: [-0.7385689283722103, -0.7167177766452218, -0.6948666249182334, -0.673015473191245, -0.6511643214642565, -0.629313169737268, -0.41080165246738337, 1.1406301201487976, 1.5776531546885668, 1.7961646719584514]\n",
      "outlier: [[320, 340, 350]]\n",
      "count: 1\n"
     ]
    },
    {
     "data": {
      "text/plain": [
       "[[320, 340, 350]]"
      ]
     },
     "execution_count": 10,
     "metadata": {},
     "output_type": "execute_result"
    }
   ],
   "source": [
    "import math\n",
    "def detect_outliers(data, threshold=1, method = 'z_score'):\n",
    "    z_scores = []\n",
    "    outliers =[]\n",
    "    mean = sum(data)/len(data)\n",
    "    \n",
    "    variance= sum(pow(x-mean,2)for x in data)/ len(data)\n",
    "    \n",
    "    std= math.sqrt(variance)\n",
    "   \n",
    "    for x in data:\n",
    "        z_score=(x-mean)/std\n",
    "        z_scores.append(z_score)\n",
    "    Outliers = [data[i] for i in range(len(data)) if abs(z_scores[i]) > threshold] \n",
    "    outliers.append(Outliers)\n",
    "    length=len(outliers)\n",
    "   \n",
    "\n",
    "    print(\"Data:\",data)\n",
    "    print(\"mean:\",mean)\n",
    "    print(\"variance:\",variance)\n",
    "    print(\"standard devaition:\",std)\n",
    "    print(\"Z-score:\", z_scores)\n",
    "    print(\"outlier:\",outliers)\n",
    "    print(\"count:\", length)\n",
    "    return outliers\n",
    "    \n",
    "data = [234,235,236,237,238,239,249 ,320,340,350]\n",
    "detect_outliers(data,threshold=1,method='z_score') \n",
    "\n",
    "    "
   ]
  },
  {
   "cell_type": "code",
   "execution_count": 3,
   "id": "2af634c2",
   "metadata": {},
   "outputs": [
    {
     "name": "stdout",
     "output_type": "stream",
     "text": [
      "\n",
      "\n",
      "1 \n",
      "\n",
      "1 2 \n",
      "\n",
      "1 2 3 \n",
      "\n",
      "1 2 3 4 \n",
      "\n"
     ]
    }
   ],
   "source": [
    "def  print_numeric_pattern(pattern_type,size):\n",
    "    \n",
    "    for i in range(size+1):\n",
    "        for j in range(i ):\n",
    "            print(j+1,end=' ')\n",
    "        print(\"\\n\")\n",
    "size= 4\n",
    "pattern_type= \"triangle\"\n",
    "print_numeric_pattern(pattern_type,size)"
   ]
  },
  {
   "cell_type": "code",
   "execution_count": 50,
   "id": "bffb2fec",
   "metadata": {},
   "outputs": [
    {
     "name": "stdout",
     "output_type": "stream",
     "text": [
      "Numeric OTP: 411332\n"
     ]
    }
   ],
   "source": [
    "import random\n",
    "def generate_otp():\n",
    "    \n",
    "   \n",
    "    digits =\"1234567890\"    \n",
    "    otp1=\"\"\n",
    "    for i in range(6):\n",
    "        otp1 += random.choice(digits)\n",
    "    \n",
    "    return otp1\n",
    "otp1=generate_otp()    \n",
    "\n",
    "print(\"Numeric OTP:\",otp1)\n",
    "\n",
    "\n"
   ]
  },
  {
   "cell_type": "code",
   "execution_count": null,
   "id": "6dc36e7a",
   "metadata": {},
   "outputs": [],
   "source": [
    "import random\n",
    "def generate_otp():\n",
    "    \n",
    "    alphanumeric=\"1234567890ABCDdefghijklmnopqrstu\"\n",
    "    otp2 =\"\"\n",
    "    for i in range(8):\n",
    "        \n",
    "        otp2 +=random.choice([char for char in alphanumeric if char.isupper() or char.islower() or char.isnumeric])\n",
    "    return otp2\n",
    "\n",
    "otp2=generate_otp()    \n",
    "\n",
    "print(\"Alphanumeric OTP:\",otp2)   \n",
    "\n",
    "        \n",
    "if any(i.isnumeric()  for i in otp2):\n",
    "    print(\"True\")     \n",
    "else:\n",
    "    print(\"False\")\n",
    "if any(i.isupper() or i.islower() for i in otp2):\n",
    "    print(\"valid otp\")\n",
    "else:\n",
    "    print(\"invalid otp\")"
   ]
  },
  {
   "cell_type": "code",
   "execution_count": 12,
   "id": "bdb7e9d0",
   "metadata": {},
   "outputs": [
    {
     "name": "stdout",
     "output_type": "stream",
     "text": [
      "enter the pan number:jadeneha03@gmail.com\n",
      "enter the pan name:neha\n",
      "is_valid: True\n"
     ]
    }
   ],
   "source": [
    "\n",
    "def verify_extended_pan_number(pan_number,name,holder_type):\n",
    "    \n",
    "    x=pan_number[0:5]\n",
    "    y=pan_number[5:9]\n",
    "    z=pan_number[9:10]\n",
    "    if len(pan_number)==10:\n",
    "\n",
    "\n",
    "        if x.isalpha()==True and y.isdigit()==True and z.isalpha()==True:\n",
    "            print(\"valid pan number\")\n",
    "        else:\n",
    "            print(\"invalid pan number\")\n",
    "\n",
    "\n",
    "    return True    \n",
    "\n",
    "    if holder_type==\"p\":\n",
    "        print(\"pancard is valid\")\n",
    "    else:\n",
    "        print(\"pancard is invalid\")\n",
    "pan_number=input(\"enter the pan number:\")\n",
    "name= input(\"enter the pan name:\")\n",
    "holder_type = \"p\"\n",
    "\n",
    "                 \n",
    "is_valid =verify_extended_pan_number(pan_number,name,holder_type)\n",
    "print(\"is_valid:\",is_valid)"
   ]
  },
  {
   "cell_type": "code",
   "execution_count": 4,
   "id": "a6ffcbca",
   "metadata": {},
   "outputs": [
    {
     "name": "stdout",
     "output_type": "stream",
     "text": [
      "enter the date1:2020-10-01\n",
      "enter the date2:2023-10-15\n",
      "01\n",
      "15\n",
      "dayes: 14\n"
     ]
    }
   ],
   "source": [
    "def calculate_days_between_dates(date1,date2):\n",
    "    \n",
    "   \n",
    "    y,m,d= date1.split(\"-\")\n",
    "    print(d)\n",
    "    Y,M,D=date2.split(\"-\")\n",
    "    print(D)\n",
    "    dayes=(int(D)-int(d))\n",
    "    print(\"dayes:\", dayes)\n",
    "date1 = input(\"enter the date1:\")\n",
    "date2=input(\"enter the date2:\")\n",
    "calculate_days_between_dates(date1,date2)        "
   ]
  },
  {
   "cell_type": "code",
   "execution_count": 1,
   "id": "1fd2354d",
   "metadata": {},
   "outputs": [
    {
     "name": "stdout",
     "output_type": "stream",
     "text": [
      "The difference 14 days, 0:00:00 between the two dates \n"
     ]
    }
   ],
   "source": [
    "from datetime import datetime\n",
    "\n",
    "\n",
    "date_str1 = \"2023-10-01\"\n",
    "date_str2 = \"2023-10-15\"\n",
    "date_format = \"%Y-%m-%d\"\n",
    "date1 = datetime.strptime(date_str1, date_format)\n",
    "date2 = datetime.strptime(date_str2, date_format)\n",
    "\n",
    "date_difference = date2 - date1\n",
    "\n",
    "print(f\"The difference {date_difference} between the two dates \")\n",
    "\n"
   ]
  },
  {
   "cell_type": "code",
   "execution_count": 1,
   "id": "0847dfa8",
   "metadata": {},
   "outputs": [
    {
     "ename": "NameError",
     "evalue": "name 'word' is not defined",
     "output_type": "error",
     "traceback": [
      "\u001b[1;31m---------------------------------------------------------------------------\u001b[0m",
      "\u001b[1;31mNameError\u001b[0m                                 Traceback (most recent call last)",
      "Cell \u001b[1;32mIn[1], line 21\u001b[0m\n\u001b[0;32m     18\u001b[0m sentence \u001b[38;5;241m=\u001b[39m \u001b[38;5;124m\"\u001b[39m\u001b[38;5;124mThe playful kitten chased its tail in circles.\u001b[39m\u001b[38;5;124m\"\u001b[39m\n\u001b[0;32m     19\u001b[0m duplicates \u001b[38;5;241m=\u001b[39m find_duplicate_letters(sentence)\n\u001b[1;32m---> 21\u001b[0m find_duplicate_letters(word)\n",
      "\u001b[1;31mNameError\u001b[0m: name 'word' is not defined"
     ]
    }
   ],
   "source": [
    "def find_duplicate_letters(word):\n",
    "    seen_letters = set()\n",
    "    duplicates = set()\n",
    "\n",
    "    for letter in word:\n",
    "        if letter in seen_letters:\n",
    "            duplicates.add(letter)\n",
    "        else:\n",
    "            seen_letters.add(letter)\n",
    "\n",
    "    return duplicates\n",
    "\n",
    "\n",
    "    if duplicates:\n",
    "        print(\"Duplicate letters found:\", duplicates)\n",
    "    else:\n",
    "        print(\"No duplicate letters found.\")\n",
    "sentence = \"The playful kitten chased its tail in circles.\"\n",
    "duplicates = find_duplicate_letters(sentence)\n",
    "\n",
    "find_duplicate_letters(word)"
   ]
  },
  {
   "cell_type": "code",
   "execution_count": 7,
   "id": "8a8f135a",
   "metadata": {},
   "outputs": [
    {
     "name": "stdout",
     "output_type": "stream",
     "text": [
      "JohnDoe 123\n",
      "First Name: John\n",
      "Last Name: Doe\n",
      "id: 123\n",
      "{'First Name': 'John', 'Last Name': 'Doe', 'id': 123}\n"
     ]
    }
   ],
   "source": [
    "def parsed_encoded_str(encoded_str):\n",
    "    \n",
    "        \n",
    "    str1=encoded_str.replace(\"000\",\" \")\n",
    "    print(str1)\n",
    "    id=[]\n",
    "    list2=[]\n",
    "    id.append(123)\n",
    "    list2.append(\"JohnDoe\")\n",
    "    Id=id[0]\n",
    "    a=list2[0]\n",
    "    first_name =a[:4]\n",
    "    last_name = a[4:]\n",
    "\n",
    "    # Display the result\n",
    "    print(\"First Name:\", first_name)\n",
    "    print(\"Last Name:\", last_name)\n",
    "    print(\"id:\", Id)\n",
    "    parsed_Data={}\n",
    "    parsed_Data.update({ \"First Name\": first_name , \"Last Name\": last_name,\"id\":Id})\n",
    "    print(parsed_Data)\n",
    "encoded_str = \"JohnDoe000123\"\n",
    "parsed_encoded_str(encoded_str)"
   ]
  },
  {
   "cell_type": "code",
   "execution_count": 24,
   "id": "1078d445",
   "metadata": {},
   "outputs": [
    {
     "name": "stdout",
     "output_type": "stream",
     "text": [
      "enter the intger:12345\n",
      "54321\n"
     ]
    }
   ],
   "source": [
    "def reversed_integer(reverse_integer):\n",
    "    reverse_num=str(reverse_integer)\n",
    "    \n",
    "    reversed_num=reverse_num[::-1]\n",
    "    print(reversed_num)\n",
    "reverse_integer=int(input(\"enter the intger:\"))\n",
    "\n",
    "reversed_integer(reverse_integer)"
   ]
  },
  {
   "cell_type": "code",
   "execution_count": 2,
   "id": "3c1ff067",
   "metadata": {},
   "outputs": [
    {
     "name": "stdout",
     "output_type": "stream",
     "text": [
      "enter num :5\n",
      "1\n",
      "2\n",
      "3\n",
      "5\n",
      "8\n"
     ]
    }
   ],
   "source": [
    "def f(n,f0=0 ,f1=1):\n",
    "    \n",
    "  \n",
    "    if(n>0):\n",
    "        num=f0+f1\n",
    "        f0=f1\n",
    "        f1=num\n",
    "        print(num)\n",
    "        f(n - 1, f0, f1)\n",
    "    \n",
    "n=int(input(\"enter num :\"))\n",
    "\n",
    "f(n)\n",
    "\n",
    "    \n",
    "    \n",
    "    "
   ]
  },
  {
   "cell_type": "code",
   "execution_count": 24,
   "id": "9b85616b",
   "metadata": {},
   "outputs": [
    {
     "name": "stdout",
     "output_type": "stream",
     "text": [
      "Fibonacci series up to n th term: [0, 1, 1, 2, 3, 5, 8, 13, 21, 34]\n"
     ]
    }
   ],
   "source": [
    "def fibonacci(n, f0=0, f1=1):\n",
    "    if n <= 0:\n",
    "        return []\n",
    "    elif n == 1:\n",
    "        return [f0]\n",
    "    else:\n",
    "        series = [f0, f1]\n",
    "        for _ in range(2, n):\n",
    "            f0, f1 = f1, f0 + f1\n",
    "            series.append(f1)\n",
    "        return series\n",
    "\n",
    "n = 10\n",
    "fibonacci_series = fibonacci(n)\n",
    "print(\"Fibonacci series up to n th term:\", fibonacci_series)"
   ]
  },
  {
   "cell_type": "code",
   "execution_count": 46,
   "id": "1b0c5577",
   "metadata": {},
   "outputs": [
    {
     "name": "stdout",
     "output_type": "stream",
     "text": [
      "77.0\n"
     ]
    }
   ],
   "source": [
    "def celsius_to_farenhit(celsius):\n",
    "        farenhit = (celsius * 9/5) + 32\n",
    "        print(farenhit)\n",
    "celsius=25.0\n",
    "celsius_to_farenhit(celsius)"
   ]
  },
  {
   "cell_type": "code",
   "execution_count": null,
   "id": "ac68a55e",
   "metadata": {},
   "outputs": [],
   "source": []
  },
  {
   "cell_type": "code",
   "execution_count": null,
   "id": "22ac4152",
   "metadata": {},
   "outputs": [],
   "source": []
  }
 ],
 "metadata": {
  "kernelspec": {
   "display_name": "Python 3 (ipykernel)",
   "language": "python",
   "name": "python3"
  },
  "language_info": {
   "codemirror_mode": {
    "name": "ipython",
    "version": 3
   },
   "file_extension": ".py",
   "mimetype": "text/x-python",
   "name": "python",
   "nbconvert_exporter": "python",
   "pygments_lexer": "ipython3",
   "version": "3.11.4"
  }
 },
 "nbformat": 4,
 "nbformat_minor": 5
}

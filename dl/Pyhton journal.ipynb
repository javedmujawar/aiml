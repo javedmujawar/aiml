{
 "cells": [
  {
   "cell_type": "markdown",
   "id": "6fdf9bb8",
   "metadata": {},
   "source": [
    "# 1. Write a Python program covering the following topics with concise examples"
   ]
  },
  {
   "cell_type": "markdown",
   "id": "d73b2485",
   "metadata": {},
   "source": [
    "# Q1.) installing python and Running python program "
   ]
  },
  {
   "cell_type": "code",
   "execution_count": null,
   "id": "03c2fa3a",
   "metadata": {},
   "outputs": [],
   "source": [
    "\"\"\"Guide the user through installing Python from the official website (python.org). Additionally, \n",
    "recommend two popular IDEs: PyCharm and Visual Studio Code.\"\"\""
   ]
  },
  {
   "cell_type": "code",
   "execution_count": null,
   "id": "8f6bd863",
   "metadata": {},
   "outputs": [],
   "source": [
    "#introduction to python and IDEs \n",
    "Visit the Python official website:\n",
    "Go to https://www.python.org in your web browser.\n",
    "    \n",
    "# on PYCHARM\n",
    "https://www.jetbrains.com/pycharm/download/\n",
    "\n",
    "## on VS CODE\n",
    "https://code.visualstudio.com"
   ]
  },
  {
   "cell_type": "code",
   "execution_count": 1,
   "id": "bff0c60f",
   "metadata": {},
   "outputs": [
    {
     "name": "stdout",
     "output_type": "stream",
     "text": [
      "8\n"
     ]
    }
   ],
   "source": [
    "## RUNNING PYTHON PRGORAMMING\n",
    "a=4+4\n",
    "print(a)\n"
   ]
  },
  {
   "cell_type": "code",
   "execution_count": 2,
   "id": "2f540748",
   "metadata": {},
   "outputs": [
    {
     "name": "stdout",
     "output_type": "stream",
     "text": [
      "Hello world\n"
     ]
    }
   ],
   "source": [
    "print(\"Hello world\")"
   ]
  },
  {
   "cell_type": "markdown",
   "id": "1c062084",
   "metadata": {},
   "source": [
    "#  Q.2) Variables and Data Types, Basic Input and Output "
   ]
  },
  {
   "cell_type": "code",
   "execution_count": null,
   "id": "71dfdd70",
   "metadata": {},
   "outputs": [],
   "source": [
    "\"\"\"Declare variables of different data types (int, float, str, list, tuple, dict, set) and print each variable \n",
    "along with its data type. Prompt the user to enter their name using input(), then print a greeting \n",
    "message along with their name. \"\"\""
   ]
  },
  {
   "cell_type": "code",
   "execution_count": 4,
   "id": "99cf3ef9",
   "metadata": {},
   "outputs": [
    {
     "data": {
      "text/plain": [
       "int"
      ]
     },
     "execution_count": 4,
     "metadata": {},
     "output_type": "execute_result"
    }
   ],
   "source": [
    "integer= 3\n",
    "type(integer)"
   ]
  },
  {
   "cell_type": "code",
   "execution_count": 5,
   "id": "147f583e",
   "metadata": {},
   "outputs": [
    {
     "data": {
      "text/plain": [
       "str"
      ]
     },
     "execution_count": 5,
     "metadata": {},
     "output_type": "execute_result"
    }
   ],
   "source": [
    "string=\"Neha\"\n",
    "type(string)"
   ]
  },
  {
   "cell_type": "code",
   "execution_count": 6,
   "id": "87381e44",
   "metadata": {},
   "outputs": [
    {
     "data": {
      "text/plain": [
       "float"
      ]
     },
     "execution_count": 6,
     "metadata": {},
     "output_type": "execute_result"
    }
   ],
   "source": [
    "float_value=18.3\n",
    "type(float_value)"
   ]
  },
  {
   "cell_type": "code",
   "execution_count": 7,
   "id": "6175bfd2",
   "metadata": {},
   "outputs": [
    {
     "data": {
      "text/plain": [
       "list"
      ]
     },
     "execution_count": 7,
     "metadata": {},
     "output_type": "execute_result"
    }
   ],
   "source": [
    "list1=[1,2,3,4,5,6,7,8,9]\n",
    "type(list1)"
   ]
  },
  {
   "cell_type": "code",
   "execution_count": 8,
   "id": "793cd000",
   "metadata": {},
   "outputs": [
    {
     "data": {
      "text/plain": [
       "set"
      ]
     },
     "execution_count": 8,
     "metadata": {},
     "output_type": "execute_result"
    }
   ],
   "source": [
    "set1= {\"python\", 'data science', 'ml', 'dl'}\n",
    "type(set1)"
   ]
  },
  {
   "cell_type": "code",
   "execution_count": 9,
   "id": "c711a7a8",
   "metadata": {},
   "outputs": [
    {
     "data": {
      "text/plain": [
       "tuple"
      ]
     },
     "execution_count": 9,
     "metadata": {},
     "output_type": "execute_result"
    }
   ],
   "source": [
    "tuple1=(\"neha\",\"sonal\")\n",
    "type(tuple1)"
   ]
  },
  {
   "cell_type": "code",
   "execution_count": 10,
   "id": "95443d1d",
   "metadata": {},
   "outputs": [
    {
     "data": {
      "text/plain": [
       "dict"
      ]
     },
     "execution_count": 10,
     "metadata": {},
     "output_type": "execute_result"
    }
   ],
   "source": [
    "dictonary= {\"name\": \"neha\", \"age\":'22',\"std\":\"data science\"}\n",
    "type(dictonary)"
   ]
  },
  {
   "cell_type": "code",
   "execution_count": 12,
   "id": "af7a2591",
   "metadata": {},
   "outputs": [
    {
     "name": "stdout",
     "output_type": "stream",
     "text": [
      "enter your name:neha jade\n",
      "Name:  neha jade\n"
     ]
    }
   ],
   "source": [
    "name=input(\"enter your name:\")\n",
    "print(\"Name: \", name)"
   ]
  },
  {
   "cell_type": "code",
   "execution_count": 19,
   "id": "1e9cfbd1",
   "metadata": {},
   "outputs": [
    {
     "name": "stdout",
     "output_type": "stream",
     "text": [
      "Please enter your name: neha\n",
      "Hello, neha!\n"
     ]
    }
   ],
   "source": [
    "# Simple greeting message\n",
    "name = input(\"Please enter your name: \")\n",
    "print(\"Hello, \" + name + \"!\")"
   ]
  },
  {
   "cell_type": "markdown",
   "id": "5f82e6ac",
   "metadata": {},
   "source": [
    "# Q.3) Operators and Expressions, Conditional Statements"
   ]
  },
  {
   "cell_type": "code",
   "execution_count": null,
   "id": "1c420950",
   "metadata": {},
   "outputs": [],
   "source": [
    "\"\"\"Demonstrate arithmetic operations (+, -, *, /, //, %) and logical operations (and, or, not). Use an \n",
    "if statement to check if a number entered by the user is positive, negative, or zero. \"\"\""
   ]
  },
  {
   "cell_type": "code",
   "execution_count": 1,
   "id": "91f10873",
   "metadata": {},
   "outputs": [
    {
     "name": "stdout",
     "output_type": "stream",
     "text": [
      "Addition: 21\n",
      "substraction: -15\n",
      "multiplication: 54\n",
      "division: 0.16666666666666666\n",
      "reminder: 0\n",
      "reminder: 0\n",
      "divesir: 3\n"
     ]
    }
   ],
   "source": [
    "num1=3\n",
    "num2=18\n",
    "Addition=num1+num2\n",
    "multiply=num1*num2\n",
    "substraction=num1-num2\n",
    "division=num1/num2\n",
    "reminder=num1//num2\n",
    "divesir=num1%num2\n",
    "\n",
    "print(\"Addition:\", Addition)\n",
    "print(\"substraction:\", substraction)\n",
    "print(\"multiplication:\", multiply)\n",
    "print(\"division:\", division)\n",
    "print(\"reminder:\",reminder)\n",
    "print(\"reminder:\",reminder)\n",
    "print(\"divesir:\",divesir)"
   ]
  },
  {
   "cell_type": "markdown",
   "id": "d0cd0b46",
   "metadata": {},
   "source": [
    "# Q.4) Loops, Functions and Parameters, Returning Values from Functions: "
   ]
  },
  {
   "cell_type": "code",
   "execution_count": null,
   "id": "de7b8b21",
   "metadata": {},
   "outputs": [],
   "source": [
    "\"\"\"Implement a for loop to iterate over a list of numbers and print each number. Define a function \n",
    "add that takes two parameters and returns their sum. Call the add function with arguments 3 and \n",
    "4, and print the result. Then, define a recursive function factorial to calculate the factorial of a given \n",
    "number (5) and print the result.\"\"\""
   ]
  },
  {
   "cell_type": "code",
   "execution_count": 44,
   "id": "23448aa1",
   "metadata": {},
   "outputs": [
    {
     "name": "stdout",
     "output_type": "stream",
     "text": [
      "Enter the integer:18\n",
      "positive\n"
     ]
    }
   ],
   "source": [
    "integer=int(input(\"Enter the integer:\"))\n",
    "if integer >0:\n",
    "    print(\"positive\")\n",
    "elif integer==0:\n",
    "    print(\"zero\")\n",
    "\n",
    "else:\n",
    "    print(\"negetive\")\n",
    "    "
   ]
  },
  {
   "cell_type": "code",
   "execution_count": 66,
   "id": "fd1101d8",
   "metadata": {},
   "outputs": [
    {
     "name": "stdout",
     "output_type": "stream",
     "text": [
      "1\n",
      "2\n",
      "3\n",
      "4\n",
      "5\n",
      "6\n",
      "7\n",
      "8\n",
      "9\n",
      "addition: 7\n"
     ]
    }
   ],
   "source": [
    "numbers=[1,2,3,4,5,6,7,8,9]\n",
    "for i in numbers:\n",
    "    print(i)\n",
    "\n",
    "def add(a,b):\n",
    "    return a + b\n",
    "addition=add(3,4)\n",
    "print(\"addition:\",addition)\n"
   ]
  },
  {
   "cell_type": "code",
   "execution_count": 70,
   "id": "2690e645",
   "metadata": {},
   "outputs": [
    {
     "name": "stdout",
     "output_type": "stream",
     "text": [
      "Factorial of 5: 120\n"
     ]
    }
   ],
   "source": [
    "numbers=[1,2,3,4,5,6,7,8,9]\n",
    "def factorial(n):\n",
    "    if n == 0:  # Base case: factorial of 0 is 1\n",
    "        return 1\n",
    "    else:\n",
    "        return n * factorial(n - 1)  # Recursive case: n! = n * (n-1)!\n",
    "# Call the factorial function with argument 5 and print the result\n",
    "factorial_result = factorial(5)\n",
    "print(\"Factorial of 5:\", factorial_result)\n",
    "    \n"
   ]
  },
  {
   "cell_type": "code",
   "execution_count": 23,
   "id": "881aedde",
   "metadata": {},
   "outputs": [
    {
     "name": "stdout",
     "output_type": "stream",
     "text": [
      "Factorial of num: 1\n",
      "Error: Attempted to divide by zero.\n"
     ]
    }
   ],
   "source": [
    "def factorial(n):\n",
    "    try:\n",
    "        if n < 0:\n",
    "            raise ValueError(\"Factorial is not defined for negative numbers.\")\n",
    "        elif n == 0:  # Base case: factorial of 0 is 1\n",
    "            return 1\n",
    "        else:\n",
    "            return n * factorial(n - 1)  # Recursive case: n! = n * (n-1)!\n",
    "    except ZeroDivisionError:\n",
    "        print(\"Error: Attempted to divide by zero.\")\n",
    "\n",
    "# Test the factorial function\n",
    "try:\n",
    "    result = factorial(0)\n",
    "    print(\"Factorial of num:\", result)\n",
    "    \n",
    "    # Attempt to divide by zero\n",
    "    result = 10 / 0\n",
    "except ZeroDivisionError:\n",
    "    print(\"Error: Attempted to divide by zero.\")\n",
    "except ValueError as ve:\n",
    "    print(ve)\n"
   ]
  },
  {
   "cell_type": "markdown",
   "id": "f4baed6e",
   "metadata": {},
   "source": [
    "# Q.5) Recursion, Exception Handling"
   ]
  },
  {
   "cell_type": "code",
   "execution_count": 3,
   "id": "5e3d7f31",
   "metadata": {},
   "outputs": [
    {
     "name": "stdout",
     "output_type": "stream",
     "text": [
      "recursive_function: 120\n",
      "recursive_function: 1\n"
     ]
    }
   ],
   "source": [
    "def recursive_function(n):\n",
    "    try:\n",
    "        # Base case: n is 0\n",
    "        if n == 0:\n",
    "            return 1\n",
    "        \n",
    "        # Recursive case\n",
    "        return n * recursive_function(n - 1)\n",
    "    \n",
    "    except ZeroDivisionError:\n",
    "        # Handle ZeroDivisionError\n",
    "        print(\"Error: Cannot divide by zero.\")\n",
    "        return None\n",
    "\n",
    "# Test cases\n",
    "print(\"recursive_function:\",recursive_function(5))  # Output should be 120 (5!)\n",
    "print(\"recursive_function:\",recursive_function(0))  # Output should be 1 (base case)\n"
   ]
  },
  {
   "cell_type": "markdown",
   "id": "5ffd4182",
   "metadata": {},
   "source": [
    "# 2. Create a Python program covering the following topics with concise examples: "
   ]
  },
  {
   "cell_type": "markdown",
   "id": "131866ea",
   "metadata": {},
   "source": [
    "# 1) Iist\n",
    "\n",
    "\n",
    "\n"
   ]
  },
  {
   "cell_type": "code",
   "execution_count": null,
   "id": "677305d0",
   "metadata": {},
   "outputs": [],
   "source": [
    "\"\"\"Storing and Accessing Data in Lists:\n",
    "Initialize a list containing integers and demonstrate how to access elements using index notation. \n",
    "Print the first and last elements of the list. \"\"\""
   ]
  },
  {
   "cell_type": "code",
   "execution_count": null,
   "id": "61dcab21",
   "metadata": {},
   "outputs": [],
   "source": [
    "# list index\n",
    "list1 = [2,3,4,5,6,7,8,9,10]\n",
    "print(\"list1:\", list1)\n",
    "first_integer=list1[0]\n",
    "print(\"first_integer : \",first_integer)\n",
    "last_element=list1[8]\n",
    "print(\"last_element : \",last_element)"
   ]
  },
  {
   "cell_type": "code",
   "execution_count": null,
   "id": "207201fb",
   "metadata": {},
   "outputs": [],
   "source": [
    "\"\"\"Modifying Lists: \n",
    "Append a new element to the list and print the modified list. Then, update an existing element and \n",
    "print the list again.\"\"\""
   ]
  },
  {
   "cell_type": "code",
   "execution_count": 10,
   "id": "d5d52559",
   "metadata": {},
   "outputs": [
    {
     "name": "stdout",
     "output_type": "stream",
     "text": [
      "list1: [2, 3, 4, 5, 6, 7, 8, 9, 10]\n",
      "first_integer :  2\n",
      "last_element :  10\n",
      "[2, 3, 4, 5, 6, 7, 8, 9, 10, 1]\n"
     ]
    }
   ],
   "source": [
    "list1.append(1)\n",
    "print(list1)"
   ]
  },
  {
   "cell_type": "code",
   "execution_count": null,
   "id": "6ca71e2a",
   "metadata": {},
   "outputs": [],
   "source": [
    "\"\"\"Operations on Lists: \n",
    "Perform list concatenation with another list and print the result. Also, demonstrate list repetition \n",
    "by multiplying the list by a scalar and print the resulting list. \"\"\""
   ]
  },
  {
   "cell_type": "code",
   "execution_count": 11,
   "id": "affef85a",
   "metadata": {},
   "outputs": [
    {
     "name": "stdout",
     "output_type": "stream",
     "text": [
      "new_list: [1, 2, 3, 4, 5, 6, 7, 8, 9, 10, 11, 12, 13, 14, 15, 16, 17, 18, 19, 20]\n",
      "scalar_list: [2, 4, 6, 8, 10, 12, 14, 16, 18, 20, 22, 24, 26, 28, 30, 32, 34, 36, 38, 40]\n"
     ]
    }
   ],
   "source": [
    "list2=[11,12,13,14,15,16,17,18,19,20]\n",
    "list1=[1,2,3,4,5,6,7,8,9,10]\n",
    "new_list=(list1+list2)\n",
    "print(\"new_list:\",new_list)\n",
    "scalar=2\n",
    "scalar_list=[element * scalar for element in new_list]\n",
    "print(\"scalar_list:\",scalar_list)\n",
    "\n",
    "    \n",
    "\n",
    "   \n",
    "    \n",
    "    \n"
   ]
  },
  {
   "cell_type": "code",
   "execution_count": null,
   "id": "afd35d62",
   "metadata": {},
   "outputs": [],
   "source": [
    "\"\"\"Aliasing, List Methods: \n",
    "Create a new list and alias it to the original list. Modify the alias list and observe changes in the \n",
    "original list. Additionally, demonstrate commonly used list methods such as append(), insert(), \n",
    "remove(), pop(), and sort(). \"\"\""
   ]
  },
  {
   "cell_type": "code",
   "execution_count": 14,
   "id": "86806497",
   "metadata": {},
   "outputs": [
    {
     "name": "stdout",
     "output_type": "stream",
     "text": [
      "['Aapple', 'Banana', 'Grapes', 'Watermelon', 'Cherry']\n",
      "['Aapple', 'Banana', 'Grapes', 'Watermelon', 'Cherry']\n",
      "Appended item: ['Aapple', 'Banana', 'Grapes', 'Watermelon', 'Cherry', 'Orange']\n",
      "Inserted item: ['Aapple', 'Banana', 'Grapes', 'Watermelon', 'Pineapple', 'Cherry', 'Orange']\n",
      "removed item: ['Aapple', 'Banana', 'Grapes', 'Watermelon', 'Pineapple', 'Orange']\n",
      "Poped item: ['Aapple', 'Banana', 'Grapes', 'Pineapple', 'Orange']\n",
      "sorted item: ['Aapple', 'Banana', 'Grapes', 'Orange', 'Pineapple']\n"
     ]
    }
   ],
   "source": [
    "#ALIAS THE LIST\n",
    "fruit=['Aapple','Banana','Grapes','Watermelon','Cherry']\n",
    "print(fruit)\n",
    "FRUIT=fruit\n",
    "print(FRUIT)\n",
    "FRUIT.append('Orange')  #append the orange\n",
    "print(\"Appended item:\",FRUIT)\n",
    "# does not any changes in our original list \n",
    "FRUIT.insert(4,'Pineapple') \n",
    "print(\"Inserted item:\",FRUIT)\n",
    "FRUIT.remove('Cherry')\n",
    "print(\"removed item:\",FRUIT)\n",
    "FRUIT.pop(3)\n",
    "print(\"Poped item:\",FRUIT)\n",
    "FRUIT.sort()\n",
    "print(\"sorted item:\",FRUIT)"
   ]
  },
  {
   "cell_type": "code",
   "execution_count": null,
   "id": "d102d888",
   "metadata": {},
   "outputs": [],
   "source": [
    "#with a List of Lists: \n",
    "Create a list of lists, each inner list representing a student's information (e.g., name, age, grade). \n",
    "Access and print the information of a specific student from the list of lists. "
   ]
  },
  {
   "cell_type": "code",
   "execution_count": 28,
   "id": "98d121d5",
   "metadata": {},
   "outputs": [
    {
     "name": "stdout",
     "output_type": "stream",
     "text": [
      "[['neha', 22, 'A'], ['Kiran', 22, 'A'], ['Sonal', 20, 'C']]\n",
      "Name: ['neha', 22, 'A']\n",
      "Age: ['Kiran', 22, 'A']\n",
      "Grade: ['Sonal', 20, 'A']\n"
     ]
    }
   ],
   "source": [
    "specific_student_info=[['neha',22,'A'],['Kiran',22,'A'],['Sonal',20, 'A']]\n",
    "print(student_info)\n",
    "print(\"Name:\", specific_student_info[0])\n",
    "print(\"Age:\", specific_student_info[1])\n",
    "print(\"Grade:\", specific_student_info[2])"
   ]
  },
  {
   "cell_type": "code",
   "execution_count": null,
   "id": "2492e2d5",
   "metadata": {},
   "outputs": [],
   "source": [
    "\"\"\"Processing Lists Using Indices: \n",
    "Iterate over the elements of the list using indices and perform some operation on each element, \n",
    "such as doubling its value or converting it to uppercase. Print the modified list.\"\"\""
   ]
  },
  {
   "cell_type": "code",
   "execution_count": 61,
   "id": "14baf754",
   "metadata": {},
   "outputs": [
    {
     "name": "stdout",
     "output_type": "stream",
     "text": [
      "APPLE\n",
      "BANANA\n",
      "GRAPES\n",
      "WATERMELON\n",
      "CHERRY\n",
      "['apple', 'banana', 'grapes', 'watermelon', 'cherry']\n"
     ]
    }
   ],
   "source": [
    "fruit=['APPLE','BANANA','GRAPES','WATERMELON','CHERRY']\n",
    "for i in fruit:\n",
    "    print(i)\n",
    "newlist=[i.lower() for i in fruit]\n",
    "print(newlist)\n",
    "\n"
   ]
  },
  {
   "cell_type": "markdown",
   "id": "334f8a41",
   "metadata": {},
   "source": [
    "# 2) set  "
   ]
  },
  {
   "cell_type": "code",
   "execution_count": null,
   "id": "73fb6799",
   "metadata": {},
   "outputs": [],
   "source": [
    "\"\"\"Storing Data Using Sets: \n",
    "Initialize a set containing unique elements and demonstrate basic set operations such as union, \n",
    "intersection, and difference with another set.\"\"\""
   ]
  },
  {
   "cell_type": "code",
   "execution_count": 15,
   "id": "1dcae596",
   "metadata": {},
   "outputs": [
    {
     "name": "stdout",
     "output_type": "stream",
     "text": [
      "set1: {'lily', 'jasmin', 'watermelon', 'rose', 'merrigold', 'cherry'}\n",
      "set2: {'banana', 'apple', 'watermelon', 'grapes', 'juee', 'cherry'}\n",
      "intersected set: {'watermelon', 'cherry'}\n",
      "union set: {'banana', 'jasmin', 'grapes', 'lily', 'apple', 'watermelon', 'rose', 'juee', 'merrigold', 'cherry'}\n",
      "difference_with_set: {'lily', 'jasmin', 'rose', 'merrigold'}\n"
     ]
    }
   ],
   "source": [
    "set1 = {'rose','lily','watermelon','merrigold','jasmin','cherry'}\n",
    "set2={'apple', 'banana', 'grapes', 'watermelon', 'cherry','juee'}\n",
    "print(\"set1:\",set1)\n",
    "print(\"set2:\", set2)\n",
    "type(set1)\n",
    "Sets=set2.intersection(set1)\n",
    "print(\"intersected set:\",Sets)\n",
    "sets=set2.union(set1)\n",
    "print(\"union set:\",sets)\n",
    "difference_with_set=set1.difference(set2)\n",
    "print(\"difference_with_set:\",difference_with_set)"
   ]
  },
  {
   "cell_type": "markdown",
   "id": "65e8690d",
   "metadata": {},
   "source": [
    "# 3) TUPLE "
   ]
  },
  {
   "cell_type": "code",
   "execution_count": null,
   "id": "e9b57c1b",
   "metadata": {},
   "outputs": [],
   "source": [
    "\"\"\"Storing Data Using Tuples: \n",
    "Declare a tuple containing heterogeneous data types (e.g., integer, float, string) and print each \n",
    "element individually. \"\"\""
   ]
  },
  {
   "cell_type": "code",
   "execution_count": 17,
   "id": "79bac513",
   "metadata": {},
   "outputs": [
    {
     "name": "stdout",
     "output_type": "stream",
     "text": [
      "neha\n",
      "kiran\n",
      "3\n",
      "18\n",
      "2\n",
      "22.0\n",
      "22.0\n"
     ]
    }
   ],
   "source": [
    "mixed_data=('neha', 'kiran',3,18,2, 22.0, 22.0)\n",
    "type(mixed_data)\n",
    "for element in mixed_data:\n",
    "    print(element)"
   ]
  },
  {
   "cell_type": "markdown",
   "id": "c561a995",
   "metadata": {},
   "source": [
    "# 4) DICTONARIES"
   ]
  },
  {
   "cell_type": "code",
   "execution_count": null,
   "id": "54384f4d",
   "metadata": {},
   "outputs": [],
   "source": [
    "\"\"\"Storing Data Using Dictionaries: \n",
    "Create a dictionary representing a student's information (e.g., name, age, grade) with keys and \n",
    "values. Access and print specific information from the dictionary.\"\"\""
   ]
  },
  {
   "cell_type": "code",
   "execution_count": 19,
   "id": "4852156a",
   "metadata": {},
   "outputs": [
    {
     "name": "stdout",
     "output_type": "stream",
     "text": [
      "name : neha\n",
      "age : 22\n",
      "grades : A\n"
     ]
    }
   ],
   "source": [
    "my_dict={'name':'neha','age':22,'grades':'A'}\n",
    "for key, value in my_dict.items():\n",
    "    print(key, \":\", value)"
   ]
  },
  {
   "cell_type": "markdown",
   "id": "b5cb07b5",
   "metadata": {},
   "source": [
    "# 3. Develop a Python program covering the following topics with concise examples:"
   ]
  },
  {
   "cell_type": "markdown",
   "id": "36a69e64",
   "metadata": {},
   "source": [
    "#  IMPORTING LIBRARIES"
   ]
  },
  {
   "cell_type": "code",
   "execution_count": null,
   "id": "efc0e4df",
   "metadata": {},
   "outputs": [],
   "source": [
    "\"\"\"Import the math, random, and datetime modules. \n",
    "Demonstrate importing specific functions or classes from these modules and using them in your \n",
    "program. \"\"\""
   ]
  },
  {
   "cell_type": "code",
   "execution_count": 20,
   "id": "dfa57f27",
   "metadata": {},
   "outputs": [],
   "source": [
    "import math\n",
    "import random\n",
    "import datetime\n"
   ]
  },
  {
   "cell_type": "code",
   "execution_count": 3,
   "id": "824c65bf",
   "metadata": {},
   "outputs": [
    {
     "name": "stdout",
     "output_type": "stream",
     "text": [
      "2002-03-09 00:00:00\n"
     ]
    }
   ],
   "source": [
    "import datetime\n",
    "\n",
    "x = datetime.datetime(2002,3,9)\n",
    "print(x)"
   ]
  },
  {
   "cell_type": "markdown",
   "id": "2f9a2f38",
   "metadata": {},
   "source": [
    "# Commonly Used Python Libraries"
   ]
  },
  {
   "cell_type": "code",
   "execution_count": null,
   "id": "00caf80d",
   "metadata": {},
   "outputs": [],
   "source": [
    "\"\"\"Utilize the math module to perform mathematical \n",
    "operations such as calculating square roots and trigonometric functions. Use the random module \n",
    "to generate random numbers and select random elements from a list. Additionally, demonstrate \n",
    "getting the current date and time using the datetime module.\"\"\""
   ]
  },
  {
   "cell_type": "code",
   "execution_count": 4,
   "id": "f2e4c082",
   "metadata": {},
   "outputs": [
    {
     "name": "stdout",
     "output_type": "stream",
     "text": [
      "8.0\n"
     ]
    }
   ],
   "source": [
    "import math\n",
    "a=64\n",
    "squareroot=math.sqrt(a)\n",
    "print(squareroot)"
   ]
  },
  {
   "cell_type": "code",
   "execution_count": null,
   "id": "f56c5fda",
   "metadata": {},
   "outputs": [],
   "source": [
    "\"\"\"Working with a List of Lists: \n",
    "Create a list of lists, each inner list representing a student's information (e.g., name, age, grade). \n",
    "Access and print the information of a specific student from the list of lists. \"\"\""
   ]
  },
  {
   "cell_type": "code",
   "execution_count": 5,
   "id": "bcd98c29",
   "metadata": {},
   "outputs": [
    {
     "name": "stdout",
     "output_type": "stream",
     "text": [
      "Sine: 0.7071067811865476\n"
     ]
    }
   ],
   "source": [
    "# Angle in radians\n",
    "angle = math.pi / 4  # 45 degrees in radians\n",
    "\n",
    "# Sine of the angle\n",
    "sin_value = math.sin(angle)\n",
    "print(\"Sine:\", sin_value)\n"
   ]
  },
  {
   "cell_type": "code",
   "execution_count": 12,
   "id": "03c46f1b",
   "metadata": {},
   "outputs": [
    {
     "name": "stdout",
     "output_type": "stream",
     "text": [
      "['g', 'A', 'A', 7, 7, 'j', 'i', 1, 'g', 'f', 'g', 9, 'D', 2, 1, 'h', 'd', 'i', 5, 'e', 1]\n"
     ]
    }
   ],
   "source": [
    "import random\n",
    "alphanumeric=[1,2,3,4,5,6,7,8,9,0,'A','B','C','D','d','e','f','g','h','i','j']\n",
    "random_list=[]\n",
    "for i in alphanumeric:\n",
    "    list_random=random.choice(alphanumeric)\n",
    "    random_list.append(list_random)  \n",
    "print(random_list)\n"
   ]
  },
  {
   "cell_type": "code",
   "execution_count": 1,
   "id": "4c99cb28",
   "metadata": {},
   "outputs": [
    {
     "name": "stdout",
     "output_type": "stream",
     "text": [
      "2002-03-09 00:00:00\n"
     ]
    }
   ],
   "source": [
    "import datetime\n",
    "\n",
    "x = datetime.datetime(2002,3,9)\n",
    "print(x)"
   ]
  },
  {
   "cell_type": "markdown",
   "id": "1d970415",
   "metadata": {},
   "source": [
    "#  introduction to third party libraries"
   ]
  },
  {
   "cell_type": "code",
   "execution_count": null,
   "id": "a59c4c69",
   "metadata": {},
   "outputs": [],
   "source": [
    "\"\"\"Briefly introduce the NumPy and Pandas libraries. \n",
    "Import NumPy and create a NumPy array to store numeric data. Then, import Pandas and \n",
    "demonstrate creating a DataFrame to organize tabular data. \"\"\""
   ]
  },
  {
   "cell_type": "markdown",
   "id": "fcc4ffc6",
   "metadata": {},
   "source": [
    "#  1) NUMPY"
   ]
  },
  {
   "cell_type": "code",
   "execution_count": 16,
   "id": "ac97e359",
   "metadata": {},
   "outputs": [
    {
     "name": "stdout",
     "output_type": "stream",
     "text": [
      "NumPy Array: [1 2 3 4 5]\n"
     ]
    }
   ],
   "source": [
    "# import numpy and numpy array store numerical data\n",
    "\n",
    "import numpy as np \n",
    "\n",
    "# Create a NumPy array from a Python list\n",
    "my_list = [1, 2, 3, 4, 5]\n",
    "my_array = np.array(my_list)\n",
    "\n",
    "# Print the array\n",
    "print(\"NumPy Array:\", my_array)\n"
   ]
  },
  {
   "cell_type": "markdown",
   "id": "4f95b3b3",
   "metadata": {},
   "source": [
    "# 2) Pandas\n"
   ]
  },
  {
   "cell_type": "code",
   "execution_count": 22,
   "id": "815a2b0e",
   "metadata": {},
   "outputs": [
    {
     "data": {
      "text/html": [
       "<div>\n",
       "<style scoped>\n",
       "    .dataframe tbody tr th:only-of-type {\n",
       "        vertical-align: middle;\n",
       "    }\n",
       "\n",
       "    .dataframe tbody tr th {\n",
       "        vertical-align: top;\n",
       "    }\n",
       "\n",
       "    .dataframe thead th {\n",
       "        text-align: right;\n",
       "    }\n",
       "</style>\n",
       "<table border=\"1\" class=\"dataframe\">\n",
       "  <thead>\n",
       "    <tr style=\"text-align: right;\">\n",
       "      <th></th>\n",
       "      <th>id</th>\n",
       "      <th>subject_id</th>\n",
       "      <th>subject_marks</th>\n",
       "    </tr>\n",
       "  </thead>\n",
       "  <tbody>\n",
       "    <tr>\n",
       "      <th>0</th>\n",
       "      <td>1</td>\n",
       "      <td>sub1</td>\n",
       "      <td>40</td>\n",
       "    </tr>\n",
       "    <tr>\n",
       "      <th>1</th>\n",
       "      <td>2</td>\n",
       "      <td>sub2</td>\n",
       "      <td>30</td>\n",
       "    </tr>\n",
       "    <tr>\n",
       "      <th>2</th>\n",
       "      <td>3</td>\n",
       "      <td>sub4</td>\n",
       "      <td>50</td>\n",
       "    </tr>\n",
       "    <tr>\n",
       "      <th>3</th>\n",
       "      <td>4</td>\n",
       "      <td>sub6</td>\n",
       "      <td>30</td>\n",
       "    </tr>\n",
       "  </tbody>\n",
       "</table>\n",
       "</div>"
      ],
      "text/plain": [
       "   id subject_id  subject_marks\n",
       "0   1       sub1             40\n",
       "1   2       sub2             30\n",
       "2   3       sub4             50\n",
       "3   4       sub6             30"
      ]
     },
     "execution_count": 22,
     "metadata": {},
     "output_type": "execute_result"
    }
   ],
   "source": [
    "import pandas as pd\n",
    "left = pd.DataFrame({\n",
    "   'id':[1,2,3,4,5],\n",
    "   'subject_id':['sub1','sub2','sub4','sub','sub5']})\n",
    "right = pd.DataFrame(\n",
    "   {'id':[1,2,3,4],\n",
    "   'subject_marks':[40,30,50,30]})\n",
    "right.head()\n",
    "pd.merge(left,right,on=\"id\",how=\"right\")\n"
   ]
  },
  {
   "cell_type": "markdown",
   "id": "8662ac88",
   "metadata": {},
   "source": [
    "# Reading and Writing Files: "
   ]
  },
  {
   "cell_type": "code",
   "execution_count": null,
   "id": "9dbdabf1",
   "metadata": {},
   "outputs": [],
   "source": [
    "\"\"\"Open a file in# read mode, read its contents, and print them to the \n",
    "console. Then, open a file in write mode, write some text to it, and close the file. Finally, open the \n",
    "same file in append mode, add more text to it, and close the file. \"\"\""
   ]
  },
  {
   "cell_type": "code",
   "execution_count": 2,
   "id": "f56c78dc",
   "metadata": {
    "scrolled": true
   },
   "outputs": [
    {
     "name": "stderr",
     "output_type": "stream",
     "text": [
      "C:\\Users\\jades\\anaconda3\\Lib\\site-packages\\pandas\\core\\arrays\\masked.py:60: UserWarning: Pandas requires version '1.3.6' or newer of 'bottleneck' (version '1.3.5' currently installed).\n",
      "  from pandas.core import (\n"
     ]
    },
    {
     "data": {
      "text/html": [
       "<div>\n",
       "<style scoped>\n",
       "    .dataframe tbody tr th:only-of-type {\n",
       "        vertical-align: middle;\n",
       "    }\n",
       "\n",
       "    .dataframe tbody tr th {\n",
       "        vertical-align: top;\n",
       "    }\n",
       "\n",
       "    .dataframe thead th {\n",
       "        text-align: right;\n",
       "    }\n",
       "</style>\n",
       "<table border=\"1\" class=\"dataframe\">\n",
       "  <thead>\n",
       "    <tr style=\"text-align: right;\">\n",
       "      <th></th>\n",
       "      <th>name</th>\n",
       "      <th>company</th>\n",
       "      <th>year</th>\n",
       "      <th>Price</th>\n",
       "      <th>kms_driven</th>\n",
       "      <th>fuel_type</th>\n",
       "    </tr>\n",
       "  </thead>\n",
       "  <tbody>\n",
       "    <tr>\n",
       "      <th>0</th>\n",
       "      <td>Hyundai Santro Xing XO eRLX Euro III</td>\n",
       "      <td>Hyundai</td>\n",
       "      <td>2007</td>\n",
       "      <td>80,000</td>\n",
       "      <td>45,000 kms</td>\n",
       "      <td>Petrol</td>\n",
       "    </tr>\n",
       "    <tr>\n",
       "      <th>1</th>\n",
       "      <td>Mahindra Jeep CL550 MDI</td>\n",
       "      <td>Mahindra</td>\n",
       "      <td>2006</td>\n",
       "      <td>4,25,000</td>\n",
       "      <td>40 kms</td>\n",
       "      <td>Diesel</td>\n",
       "    </tr>\n",
       "    <tr>\n",
       "      <th>2</th>\n",
       "      <td>Maruti Suzuki Alto 800 Vxi</td>\n",
       "      <td>Maruti</td>\n",
       "      <td>2018</td>\n",
       "      <td>Ask For Price</td>\n",
       "      <td>22,000 kms</td>\n",
       "      <td>Petrol</td>\n",
       "    </tr>\n",
       "    <tr>\n",
       "      <th>3</th>\n",
       "      <td>Hyundai Grand i10 Magna 1.2 Kappa VTVT</td>\n",
       "      <td>Hyundai</td>\n",
       "      <td>2014</td>\n",
       "      <td>3,25,000</td>\n",
       "      <td>28,000 kms</td>\n",
       "      <td>Petrol</td>\n",
       "    </tr>\n",
       "    <tr>\n",
       "      <th>4</th>\n",
       "      <td>Ford EcoSport Titanium 1.5L TDCi</td>\n",
       "      <td>Ford</td>\n",
       "      <td>2014</td>\n",
       "      <td>5,75,000</td>\n",
       "      <td>36,000 kms</td>\n",
       "      <td>Diesel</td>\n",
       "    </tr>\n",
       "    <tr>\n",
       "      <th>...</th>\n",
       "      <td>...</td>\n",
       "      <td>...</td>\n",
       "      <td>...</td>\n",
       "      <td>...</td>\n",
       "      <td>...</td>\n",
       "      <td>...</td>\n",
       "    </tr>\n",
       "    <tr>\n",
       "      <th>887</th>\n",
       "      <td>Ta</td>\n",
       "      <td>Tara</td>\n",
       "      <td>zest</td>\n",
       "      <td>3,10,000</td>\n",
       "      <td>NaN</td>\n",
       "      <td>NaN</td>\n",
       "    </tr>\n",
       "    <tr>\n",
       "      <th>888</th>\n",
       "      <td>Tata Zest XM Diesel</td>\n",
       "      <td>Tata</td>\n",
       "      <td>2018</td>\n",
       "      <td>2,60,000</td>\n",
       "      <td>27,000 kms</td>\n",
       "      <td>Diesel</td>\n",
       "    </tr>\n",
       "    <tr>\n",
       "      <th>889</th>\n",
       "      <td>Mahindra Quanto C8</td>\n",
       "      <td>Mahindra</td>\n",
       "      <td>2013</td>\n",
       "      <td>3,90,000</td>\n",
       "      <td>40,000 kms</td>\n",
       "      <td>Diesel</td>\n",
       "    </tr>\n",
       "    <tr>\n",
       "      <th>890</th>\n",
       "      <td>Honda Amaze 1.2 E i VTEC</td>\n",
       "      <td>Honda</td>\n",
       "      <td>2014</td>\n",
       "      <td>1,80,000</td>\n",
       "      <td>Petrol</td>\n",
       "      <td>NaN</td>\n",
       "    </tr>\n",
       "    <tr>\n",
       "      <th>891</th>\n",
       "      <td>Chevrolet Sail 1.2 LT ABS</td>\n",
       "      <td>Chevrolet</td>\n",
       "      <td>2014</td>\n",
       "      <td>1,60,000</td>\n",
       "      <td>Petrol</td>\n",
       "      <td>NaN</td>\n",
       "    </tr>\n",
       "  </tbody>\n",
       "</table>\n",
       "<p>892 rows × 6 columns</p>\n",
       "</div>"
      ],
      "text/plain": [
       "                                       name    company  year          Price  \\\n",
       "0      Hyundai Santro Xing XO eRLX Euro III    Hyundai  2007         80,000   \n",
       "1                   Mahindra Jeep CL550 MDI   Mahindra  2006       4,25,000   \n",
       "2                Maruti Suzuki Alto 800 Vxi     Maruti  2018  Ask For Price   \n",
       "3    Hyundai Grand i10 Magna 1.2 Kappa VTVT    Hyundai  2014       3,25,000   \n",
       "4          Ford EcoSport Titanium 1.5L TDCi       Ford  2014       5,75,000   \n",
       "..                                      ...        ...   ...            ...   \n",
       "887                                      Ta       Tara  zest       3,10,000   \n",
       "888                     Tata Zest XM Diesel       Tata  2018       2,60,000   \n",
       "889                      Mahindra Quanto C8   Mahindra  2013       3,90,000   \n",
       "890                Honda Amaze 1.2 E i VTEC      Honda  2014       1,80,000   \n",
       "891               Chevrolet Sail 1.2 LT ABS  Chevrolet  2014       1,60,000   \n",
       "\n",
       "     kms_driven fuel_type  \n",
       "0    45,000 kms    Petrol  \n",
       "1        40 kms    Diesel  \n",
       "2    22,000 kms    Petrol  \n",
       "3    28,000 kms    Petrol  \n",
       "4    36,000 kms    Diesel  \n",
       "..          ...       ...  \n",
       "887         NaN       NaN  \n",
       "888  27,000 kms    Diesel  \n",
       "889  40,000 kms    Diesel  \n",
       "890      Petrol       NaN  \n",
       "891      Petrol       NaN  \n",
       "\n",
       "[892 rows x 6 columns]"
      ]
     },
     "execution_count": 2,
     "metadata": {},
     "output_type": "execute_result"
    }
   ],
   "source": [
    "import pandas as pd\n",
    "file=pd.read_csv(r\"C:\\Users\\jades\\Downloads\\quikr_car.csv\")\n",
    "file"
   ]
  },
  {
   "cell_type": "code",
   "execution_count": 4,
   "id": "e79482b7",
   "metadata": {},
   "outputs": [
    {
     "name": "stdout",
     "output_type": "stream",
     "text": [
      "Now the file has more content!\n"
     ]
    }
   ],
   "source": [
    "f = open(\"quikr_car.csv\", \"a\")\n",
    "f.write(\"Now the file has more content!\")\n",
    "f.close()\n",
    "\n",
    "#open and read the file after the appending:\n",
    "f = open(\"quikr_car.csv\", \"r\")\n",
    "print(f.read())"
   ]
  },
  {
   "cell_type": "code",
   "execution_count": 5,
   "id": "c0d7572d",
   "metadata": {},
   "outputs": [
    {
     "name": "stdout",
     "output_type": "stream",
     "text": [
      "Now the file has more content!now the file has moer content!\n"
     ]
    }
   ],
   "source": [
    "f=open(\"quikr_car.csv\", \"a\")\n",
    "f.write(\"now the file has moer content!\")\n",
    "f.close\n",
    "f=open(\"quikr_car.csv\",'r')\n",
    "print(f.read())"
   ]
  },
  {
   "cell_type": "code",
   "execution_count": 31,
   "id": "77a31316",
   "metadata": {},
   "outputs": [
    {
     "name": "stdout",
     "output_type": "stream",
     "text": [
      "File 'myfile.txt' already exists.\n"
     ]
    }
   ],
   "source": [
    "try:\n",
    "    f = open(\"myfile.txt\", \"x\")  # Try to create a new file\n",
    "    print(\"File created successfully:\", f)\n",
    "    f.close()  # Close the file after using it\n",
    "except FileExistsError:\n",
    "    print(\"File 'myfile.txt' already exists.\")\n"
   ]
  },
  {
   "cell_type": "code",
   "execution_count": 18,
   "id": "6eaf3c21",
   "metadata": {},
   "outputs": [
    {
     "name": "stdout",
     "output_type": "stream",
     "text": [
      "['now the file has moer content!now the file has moer content!']\n",
      "Data has been written to diabetes.csv\n"
     ]
    }
   ],
   "source": [
    "\n",
    "import csv\n",
    "\n",
    "# Reading from the diabetes.csv file\n",
    "with open('diabetes.csv', mode='r') as file:\n",
    "    reader = csv.reader(file)\n",
    "    for row in reader:\n",
    "        print(row)\n",
    "\n",
    "# Writing to the diabetes.csv file\n",
    "data_to_write = [\n",
    "    ['Patient ID', 'Glucose Level', 'Blood Pressure', 'BMI'],\n",
    "    [101, 120, 80, 25],\n",
    "    [102, 140, 90, 30],\n",
    "    [103, 160, 95, 28]\n",
    "]\n",
    "\n",
    "with open('diabetes.csv', mode='w', newline='') as file:\n",
    "    writer = csv.writer(file)\n",
    "    writer.writerows(data_to_write)\n",
    "print(\"Data has been written to diabetes.csv\")"
   ]
  },
  {
   "cell_type": "markdown",
   "id": "5304d29a",
   "metadata": {},
   "source": [
    "#  csv and json processing"
   ]
  },
  {
   "cell_type": "code",
   "execution_count": null,
   "id": "66c53ec9",
   "metadata": {},
   "outputs": [],
   "source": [
    "\"\"\"CSV and JSON Data Processing: Read data from a CSV file using the csv module and print it \n",
    "to the console. Next, use the JSON module to load JSON data from a file, manipulate it, and print \n",
    "the modified data. \"\"\""
   ]
  },
  {
   "cell_type": "markdown",
   "id": "6a5b9dd7",
   "metadata": {
    "scrolled": true
   },
   "source": [
    "import csv\n",
    "import json\n",
    "\n",
    "# Read data from CSV file and print it\n",
    "def read_csv(filename):\n",
    "    with open(filename, 'r', newline='') as file:\n",
    "        reader = csv.reader(file)\n",
    "        for row in reader:\n",
    "            print(row)\n",
    "\n",
    "# Load JSON data from file, manipulate it, and print it\n",
    "def manipulate_json(filename):\n",
    "    with open(filename, 'r') as file:\n",
    "        data = json.load(file)\n",
    "        print(\"Original JSON data:\")\n",
    "        print(json.dumps(data, indent=4))  # Pretty-printing JSON data\n",
    "\n",
    "        # Manipulate JSON data (For demonstration, we'll just print it again)\n",
    "        print(\"\\nManipulated JSON data:\")\n",
    "        print(json.dumps(data, indent=4))  # Pretty-printing JSON data\n",
    "\n",
    "# CSV file processing\n",
    "csv_filename = 'data.csv'\n",
    "print(\"Data from CSV file:\")\n",
    "read_csv(csv_filename)\n",
    "\n",
    "# JSON file processing\n",
    "json_filename = 'data.json'\n",
    "print(\"\\nData from JSON file:\")\n",
    "manipulate_json(json_filename)\n"
   ]
  },
  {
   "cell_type": "markdown",
   "id": "9adeaf76",
   "metadata": {},
   "source": [
    "# Data Manipulation and Analysis:"
   ]
  },
  {
   "cell_type": "code",
   "execution_count": null,
   "id": "1f037a11",
   "metadata": {},
   "outputs": [],
   "source": [
    "\"\"\"Utilize Pandas to perform basic data manipulation and analysis \n",
    "tasks. Load a dataset into a DataFrame, filter rows based on conditions, calculate summary \n",
    "statistics, and perform basic data transformations such as sorting and grouping.\"\"\""
   ]
  },
  {
   "cell_type": "code",
   "execution_count": 44,
   "id": "be98dfce",
   "metadata": {
    "scrolled": true
   },
   "outputs": [
    {
     "name": "stdout",
     "output_type": "stream",
     "text": [
      "   PassengerId  Survived  Pclass  \\\n",
      "0            1         0       3   \n",
      "1            2         1       1   \n",
      "2            3         1       3   \n",
      "3            4         1       1   \n",
      "4            5         0       3   \n",
      "\n",
      "                                                Name  Gender   Age  SibSp  \\\n",
      "0                            Braund, Mr. Owen Harris    male  22.0      1   \n",
      "1  Cumings, Mrs. John Bradley (Florence Briggs Th...  female  38.0      1   \n",
      "2                             Heikkinen, Miss. Laina  female  26.0      0   \n",
      "3       Futrelle, Mrs. Jacques Heath (Lily May Peel)  female  35.0      1   \n",
      "4                           Allen, Mr. William Henry    male  35.0      0   \n",
      "\n",
      "   Parch            Ticket     Fare Cabin Embarked  \n",
      "0      0         A/5 21171   7.2500   NaN        S  \n",
      "1      0          PC 17599  71.2833   C85        C  \n",
      "2      0  STON/O2. 3101282   7.9250   NaN        S  \n",
      "3      0            113803  53.1000  C123        S  \n",
      "4      0            373450   8.0500   NaN        S  \n"
     ]
    }
   ],
   "source": [
    "import pandas as pd\n",
    "\n",
    "dataset=pd.read_csv(r\"C:\\Users\\jades\\Downloads\\Titanic-Dataset.csv\")\n",
    "dataset\n",
    "\n",
    "df = dataset\n",
    "print(df.head())"
   ]
  },
  {
   "cell_type": "code",
   "execution_count": 47,
   "id": "abc3f156",
   "metadata": {},
   "outputs": [
    {
     "name": "stdout",
     "output_type": "stream",
     "text": [
      "\n",
      "Filtered DataFrame (Age > 30 and Survived):\n",
      "    PassengerId  Survived  Pclass  \\\n",
      "1             2         1       1   \n",
      "3             4         1       1   \n",
      "11           12         1       1   \n",
      "15           16         1       2   \n",
      "21           22         1       2   \n",
      "\n",
      "                                                 Name  Gender   Age  SibSp  \\\n",
      "1   Cumings, Mrs. John Bradley (Florence Briggs Th...  female  38.0      1   \n",
      "3        Futrelle, Mrs. Jacques Heath (Lily May Peel)  female  35.0      1   \n",
      "11                           Bonnell, Miss. Elizabeth  female  58.0      0   \n",
      "15                   Hewlett, Mrs. (Mary D Kingcome)   female  55.0      0   \n",
      "21                              Beesley, Mr. Lawrence    male  34.0      0   \n",
      "\n",
      "    Parch    Ticket     Fare Cabin Embarked  \n",
      "1       0  PC 17599  71.2833   C85        C  \n",
      "3       0    113803  53.1000  C123        S  \n",
      "11      0    113783  26.5500  C103        S  \n",
      "15      0    248706  16.0000   NaN        S  \n",
      "21      0    248698  13.0000   D56        S  \n",
      "\n",
      "Summary Statistics:\n",
      "       PassengerId    Survived      Pclass         Age       SibSp  \\\n",
      "count   891.000000  891.000000  891.000000  714.000000  891.000000   \n",
      "mean    446.000000    0.383838    2.308642   29.699118    0.523008   \n",
      "std     257.353842    0.486592    0.836071   14.526497    1.102743   \n",
      "min       1.000000    0.000000    1.000000    0.420000    0.000000   \n",
      "25%     223.500000    0.000000    2.000000   20.125000    0.000000   \n",
      "50%     446.000000    0.000000    3.000000   28.000000    0.000000   \n",
      "75%     668.500000    1.000000    3.000000   38.000000    1.000000   \n",
      "max     891.000000    1.000000    3.000000   80.000000    8.000000   \n",
      "\n",
      "            Parch        Fare  \n",
      "count  891.000000  891.000000  \n",
      "mean     0.381594   32.204208  \n",
      "std      0.806057   49.693429  \n",
      "min      0.000000    0.000000  \n",
      "25%      0.000000    7.910400  \n",
      "50%      0.000000   14.454200  \n",
      "75%      0.000000   31.000000  \n",
      "max      6.000000  512.329200  \n",
      "\n",
      "Sorted DataFrame by Age:\n",
      "     PassengerId  Survived  Pclass                                  Name  \\\n",
      "630          631         1       1  Barkworth, Mr. Algernon Henry Wilson   \n",
      "851          852         0       3                   Svensson, Mr. Johan   \n",
      "493          494         0       1               Artagaveytia, Mr. Ramon   \n",
      "96            97         0       1             Goldschmidt, Mr. George B   \n",
      "116          117         0       3                  Connors, Mr. Patrick   \n",
      "\n",
      "    Gender   Age  SibSp  Parch    Ticket     Fare Cabin Embarked  \n",
      "630   male  80.0      0      0     27042  30.0000   A23        S  \n",
      "851   male  74.0      0      0    347060   7.7750   NaN        S  \n",
      "493   male  71.0      0      0  PC 17609  49.5042   NaN        C  \n",
      "96    male  71.0      0      0  PC 17754  34.6542    A5        C  \n",
      "116   male  70.5      0      0    370369   7.7500   NaN        Q  \n",
      "\n",
      "Mean Age by Gender:\n",
      "Gender\n",
      "female    27.915709\n",
      "male      30.726645\n",
      "Name: Age, dtype: float64\n"
     ]
    }
   ],
   "source": [
    "import pandas as pd\n",
    "\n",
    "# Load dataset into a DataFrame\n",
    "dataset=pd.read_csv(r\"C:\\Users\\jades\\Downloads\\Titanic-Dataset.csv\")\n",
    "\n",
    "\n",
    "# Filter rows based on conditions (e.g., age greater than 30 and survived)\n",
    "filtered_df = df[(df['Age'] > 30) & (df['Survived'] == 1)]\n",
    "\n",
    "# Display the filtered DataFrame\n",
    "print(\"\\nFiltered DataFrame (Age > 30 and Survived):\")\n",
    "print(filtered_df.head())\n",
    "\n",
    "# Calculate summary statistics for numerical columns\n",
    "summary_stats = df.describe()\n",
    "\n",
    "# Display the summary statistics\n",
    "print(\"\\nSummary Statistics:\")\n",
    "print(summary_stats)\n",
    "\n",
    "# Sort DataFrame by a specific column (e.g., Age)\n",
    "sorted_df = df.sort_values(by='Age', ascending=False)\n",
    "\n",
    "# Display the sorted DataFrame\n",
    "print(\"\\nSorted DataFrame by Age:\")\n",
    "print(sorted_df.head())\n",
    "\n",
    "# Grouping by a categorical variable (e.g., Gender) and calculating mean age\n",
    "grouped_df = df.groupby('Gender')['Age'].mean()\n",
    "\n",
    "# Display the grouped DataFrame\n",
    "print(\"\\nMean Age by Gender:\")\n",
    "print(grouped_df)\n"
   ]
  },
  {
   "cell_type": "markdown",
   "id": "99e844eb",
   "metadata": {},
   "source": [
    "#  Data Visuallization"
   ]
  },
  {
   "cell_type": "code",
   "execution_count": null,
   "id": "ab041b9b",
   "metadata": {},
   "outputs": [],
   "source": [
    " \"\"\"Use the matplotlib or plotly library to create simple visualizations. Plot a line \n",
    "graph, histogram, and bar diagram, boxplot, etc. representing some sample data points, and \n",
    "customize the plot with appropriate labels, titles, and legends. \"\"\""
   ]
  },
  {
   "cell_type": "code",
   "execution_count": null,
   "id": "a5bb0827",
   "metadata": {},
   "outputs": [],
   "source": [
    "\"\"\"USING MATPLOTLIB LIBRARY\"\"\""
   ]
  },
  {
   "cell_type": "markdown",
   "id": "0cb1bf82",
   "metadata": {},
   "source": [
    "# Line graph"
   ]
  },
  {
   "cell_type": "code",
   "execution_count": 10,
   "id": "84835a1a",
   "metadata": {},
   "outputs": [
    {
     "data": {
      "image/png": "[encoded data removed]",
      "text/plain": [
       "<Figure size 400x300 with 1 Axes>"
      ]
     },
     "metadata": {},
     "output_type": "display_data"
    }
   ],
   "source": [
    "import matplotlib.pyplot as plt\n",
    "x = [1, 2, 3, 4, 5]\n",
    "y = [2, 4, 6, 8, 10]\n",
    "plt.figure(figsize=(4, 3))\n",
    "plt.plot(x, y)\n",
    "plt.xlabel('X-axis label')\n",
    "plt.ylabel('Y-axis label')\n",
    "plt.show()\n"
   ]
  },
  {
   "cell_type": "markdown",
   "id": "b8b6ddbd",
   "metadata": {},
   "source": [
    "#  Histogram"
   ]
  },
  {
   "cell_type": "code",
   "execution_count": 17,
   "id": "9fc6eab9",
   "metadata": {},
   "outputs": [
    {
     "data": {
      "image/png": "[encoded data removed]",
      "text/plain": [
       "<Figure size 400x300 with 1 Axes>"
      ]
     },
     "metadata": {},
     "output_type": "display_data"
    }
   ],
   "source": [
    "import matplotlib.pyplot as plt\n",
    "data = [1, 1, 2, 2, 2, 3, 3, 3, 3, 4, 4, 5, 5, 5, 5, 5, 6, 6]\n",
    "plt.figure(figsize=(4, 3))\n",
    "plt.hist(data, bins=8, color='skyblue', edgecolor='black')\n",
    "plt.title('Histogram Example')\n",
    "plt.xlabel('Value')\n",
    "plt.ylabel('Frequency')\n",
    "plt.show()\n"
   ]
  },
  {
   "cell_type": "markdown",
   "id": "4d22726c",
   "metadata": {},
   "source": [
    "#  Bar Plot"
   ]
  },
  {
   "cell_type": "code",
   "execution_count": 16,
   "id": "4489e3b4",
   "metadata": {},
   "outputs": [
    {
     "data": {
      "image/png": "[encoded data removed]",
      "text/plain": [
       "<Figure size 400x300 with 1 Axes>"
      ]
     },
     "metadata": {},
     "output_type": "display_data"
    }
   ],
   "source": [
    "import matplotlib.pyplot as plt\n",
    "categories = ['A', 'B', 'C', 'D', 'E']\n",
    "values = [10, 20, 15, 25, 30]\n",
    "plt.figure(figsize=(4, 3))\n",
    "plt.bar(categories, values, color='skyblue')\n",
    "plt.title('Bar Plot Example')\n",
    "plt.xlabel('Categories')\n",
    "plt.ylabel('Values')\n",
    "plt.show()"
   ]
  },
  {
   "cell_type": "markdown",
   "id": "c4694dfe",
   "metadata": {},
   "source": [
    "#  Box Plot"
   ]
  },
  {
   "cell_type": "code",
   "execution_count": 19,
   "id": "a4c1c473",
   "metadata": {},
   "outputs": [
    {
     "data": {
      "image/png": "[encoded data removed]",
      "text/plain": [
       "<Figure size 400x300 with 1 Axes>"
      ]
     },
     "metadata": {},
     "output_type": "display_data"
    }
   ],
   "source": [
    "import matplotlib.pyplot as plt\n",
    "data = [10, 20, 25, 30, 35, 40, 45, 50, 55, 60, 65, 70, 75]\n",
    "plt.figure(figsize=(4, 3))\n",
    "plt.boxplot(data)\n",
    "plt.title('Box Plot Example')\n",
    "plt.xlabel('X-axis label')\n",
    "plt.ylabel('Y-axis label')\n",
    "plt.show()"
   ]
  },
  {
   "cell_type": "markdown",
   "id": "85770e4e",
   "metadata": {},
   "source": [
    "#  GUI interface"
   ]
  },
  {
   "cell_type": "code",
   "execution_count": null,
   "id": "8de6d75c",
   "metadata": {},
   "outputs": [],
   "source": [
    "\"\"\"Write a Python program to develop a GUI application for calculating insurance premiums based \n",
    "on user input and generating premium receipts\"\"\""
   ]
  },
  {
   "cell_type": "code",
   "execution_count": null,
   "id": "d2a32092",
   "metadata": {},
   "outputs": [],
   "source": [
    "\"\"\"\"1. Program Objective: \n",
    "The goal of the GUI application is to provide users with a convenient way to calculate insurance \n",
    "premiums based on their personal information and generate premium receipts. It aims to serve \n",
    "the needs of users by offering a user-friendly interface to input their details and receive accurate \n",
    "premium calculations tailored to their specific factors.\"\"\"\""
   ]
  },
  {
   "cell_type": "code",
   "execution_count": null,
   "id": "6467c3e7",
   "metadata": {},
   "outputs": [],
   "source": [
    "import tkinter as tk\n",
    "from tkinter import messagebox\n",
    "\n",
    "# Function to calculate premium and generate receipt\n",
    "def calculate_premium():\n",
    "    # Get user input from entry fields\n",
    "    name = name_entry.get()\n",
    "    age = int(age_entry.get())\n",
    "    gender = gender_var.get()\n",
    "    smoking_status = smoking_var.get()\n",
    "    phone_number = phone_entry.get()\n",
    "\n",
    "    # Base premium amount\n",
    "    base_premium = 1000\n",
    "\n",
    "    # Calculate adjustment factors\n",
    "    age_adjustment_factor = 1 - (age / 100)\n",
    "    gender_adjustment_factor = 0.95 if gender == \"Female\" else 1\n",
    "    smoking_adjustment_factor = 1.20 if smoking_status == \"Smoker\" else 1\n",
    "\n",
    "    # Calculate final premium\n",
    "    final_premium = base_premium * age_adjustment_factor * gender_adjustment_factor * smoking_adjustment_factor\n",
    "\n",
    "    # Display premium receipt\n",
    "    receipt = f\"Policyholder's Name: {name}\\nAge: {age}\\nGender: {gender}\\nSmoking Status: {smoking_status}\\nPhone Number: {phone_number}\\nBase Premium: ${base_premium}\\nFinal Premium: ${final_premium:.2f}\"\n",
    "    messagebox.showinfo(\"Premium Receipt\", receipt)\n",
    "\n",
    "# Create main window\n",
    "root = tk.Tk()\n",
    "root.title(\"Insurance Premium Calculator\")\n",
    "\n",
    "# Label and entry for Name\n",
    "name_label = tk.Label(root, text=\"Name:\")\n",
    "name_label.grid(row=0, column=0)\n",
    "name_entry = tk.Entry(root)\n",
    "name_entry.grid(row=0, column=1)\n",
    "\n",
    "# Label and entry for Age\n",
    "age_label = tk.Label(root, text=\"Age:\")\n",
    "age_label.grid(row=1, column=0)\n",
    "age_entry = tk.Entry(root)\n",
    "age_entry.grid(row=1, column=1)\n",
    "\n",
    "# Label and radio buttons for Gender\n",
    "gender_label = tk.Label(root, text=\"Gender:\")\n",
    "gender_label.grid(row=2, column=0)\n",
    "gender_var = tk.StringVar(value=\"Male\")\n",
    "male_radio = tk.Radiobutton(root, text=\"Male\", variable=gender_var, value=\"Male\")\n",
    "male_radio.grid(row=2, column=1, sticky=\"w\")\n",
    "female_radio = tk.Radiobutton(root, text=\"Female\", variable=gender_var, value=\"Female\")\n",
    "female_radio.grid(row=2, column=1, sticky=\"e\")\n",
    "\n",
    "# Label and radio buttons for Smoking Status\n",
    "smoking_label = tk.Label(root, text=\"Smoking Status:\")\n",
    "smoking_label.grid(row=3, column=0)\n",
    "smoking_var = tk.StringVar(value=\"Non-Smoker\")\n",
    "non_smoker_radio = tk.Radiobutton(root, text=\"Non-Smoker\", variable=smoking_var, value=\"Non-Smoker\")\n",
    "non_smoker_radio.grid(row=3, column=1, sticky=\"w\")\n",
    "smoker_radio = tk.Radiobutton(root, text=\"Smoker\", variable=smoking_var, value=\"Smoker\")\n",
    "smoker_radio.grid(row=3, column=1, sticky=\"e\")\n",
    "\n",
    "# Label and entry for Phone Number\n",
    "phone_label = tk.Label(root, text=\"Phone Number:\")\n",
    "phone_label.grid(row=4, column=0)\n",
    "phone_entry = tk.Entry(root)\n",
    "phone_entry.grid(row=4, column=1)\n",
    "\n",
    "# Button to calculate premium\n",
    "calculate_button = tk.Button(root, text=\"Calculate Premium\", command=calculate_premium)\n",
    "calculate_button.grid(row=5, columnspan=2)\n",
    "\n",
    "root.mainloop()\n"
   ]
  },
  {
   "cell_type": "code",
   "execution_count": null,
   "id": "8dd129cf",
   "metadata": {},
   "outputs": [],
   "source": []
  }
 ],
 "metadata": {
  "kernelspec": {
   "display_name": "Python 3 (ipykernel)",
   "language": "python",
   "name": "python3"
  },
  "language_info": {
   "codemirror_mode": {
    "name": "ipython",
    "version": 3
   },
   "file_extension": ".py",
   "mimetype": "text/x-python",
   "name": "python",
   "nbconvert_exporter": "python",
   "pygments_lexer": "ipython3",
   "version": "3.11.4"
  }
 },
 "nbformat": 4,
 "nbformat_minor": 5
}

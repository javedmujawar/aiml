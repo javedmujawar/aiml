{
 "cells": [
  {
   "cell_type": "code",
   "execution_count": 46,
   "id": "70ce77fc",
   "metadata": {},
   "outputs": [],
   "source": [
    "import numpy as np\n",
    "import re\n",
    "import nltk\n",
    "import pandas as pd"
   ]
  },
  {
   "cell_type": "code",
   "execution_count": 47,
   "id": "afa6965b",
   "metadata": {},
   "outputs": [
    {
     "name": "stderr",
     "output_type": "stream",
     "text": [
      "[nltk_data] Downloading package stopwords to\n",
      "[nltk_data]     C:\\Users\\jades\\AppData\\Roaming\\nltk_data...\n",
      "[nltk_data]   Package stopwords is already up-to-date!\n"
     ]
    }
   ],
   "source": [
    "from sklearn.datasets import load_files\n",
    "nltk.download('stopwords')\n",
    "from nltk.corpus import stopwords"
   ]
  },
  {
   "cell_type": "code",
   "execution_count": 48,
   "id": "39c052a1",
   "metadata": {},
   "outputs": [],
   "source": [
    "feedback_data = load_files(r\"C:\\Users\\jades\\Downloads\\KNN CLASSIFICATION\")\n",
    "x,y = feedback_data.data, feedback_data.target"
   ]
  },
  {
   "cell_type": "code",
   "execution_count": 49,
   "id": "d81c6620",
   "metadata": {},
   "outputs": [],
   "source": [
    "documents = []\n",
    "from nltk.stem import WordNetLemmatizer\n",
    "stemmer = WordNetLemmatizer()"
   ]
  },
  {
   "cell_type": "code",
   "execution_count": 50,
   "id": "2b4d785e",
   "metadata": {},
   "outputs": [],
   "source": [
    "for sen in range(0,len(x)):\n",
    "    #remove all special characters\n",
    "    document= re.sub(r'\\W',' ', str(x[sen]))\n",
    "\n",
    "    #remove all single characters\n",
    "    document = re.sub(r'\\s+[a-zA-Z]\\s+',' ',document)\n",
    "\n",
    "    #remove all single characters from start\n",
    "    document = re.sub(r'\\^+[a-zA-Z]\\s+',' ',document)\n",
    "\n",
    "    #substituting multiple spaces with single spaces\n",
    "    document= re.sub(r'\\s+',' ',document, flags= re.I)\n",
    "\n",
    "    #removing prefixed 'b'\n",
    "    document=re.sub(r'^b\\s+',' ',document)\n",
    "\n",
    "    #converting to lowercase\n",
    "    document = document.lower()\n",
    "\n",
    "    #Lemmatization\n",
    "    document = document.split()\n",
    "\n",
    "    document= [stemmer.lemmatize(word) for word in document]\n",
    "    document= ' '.join(document)\n",
    "\n",
    "    documents.append(documents)"
   ]
  },
  {
   "cell_type": "code",
   "execution_count": 53,
   "id": "4f94edf9",
   "metadata": {
    "scrolled": true
   },
   "outputs": [
    {
     "ename": "AttributeError",
     "evalue": "'list' object has no attribute 'lower'",
     "output_type": "error",
     "traceback": [
      "\u001b[1;31m---------------------------------------------------------------------------\u001b[0m",
      "\u001b[1;31mAttributeError\u001b[0m                            Traceback (most recent call last)",
      "Cell \u001b[1;32mIn[53], line 5\u001b[0m\n\u001b[0;32m      3\u001b[0m \u001b[38;5;28;01mfrom\u001b[39;00m \u001b[38;5;21;01msklearn\u001b[39;00m\u001b[38;5;21;01m.\u001b[39;00m\u001b[38;5;21;01mfeature_extraction\u001b[39;00m\u001b[38;5;21;01m.\u001b[39;00m\u001b[38;5;21;01mtext\u001b[39;00m \u001b[38;5;28;01mimport\u001b[39;00m TfidfVectorizer\n\u001b[0;32m      4\u001b[0m tfidfconverter\u001b[38;5;241m=\u001b[39mTfidfVectorizer(max_features\u001b[38;5;241m=\u001b[39m\u001b[38;5;241m8\u001b[39m, min_df\u001b[38;5;241m=\u001b[39m\u001b[38;5;241m5\u001b[39m,max_df\u001b[38;5;241m=\u001b[39m\u001b[38;5;241m0.7\u001b[39m, stop_words\u001b[38;5;241m=\u001b[39mstopwords\u001b[38;5;241m.\u001b[39mwords(\u001b[38;5;124m'\u001b[39m\u001b[38;5;124menglish\u001b[39m\u001b[38;5;124m'\u001b[39m))\n\u001b[1;32m----> 5\u001b[0m X\u001b[38;5;241m=\u001b[39mtfidfconverter\u001b[38;5;241m.\u001b[39mfit_transform(documents)\u001b[38;5;241m.\u001b[39mtoarray()\n",
      "File \u001b[1;32m~\\anaconda3\\Lib\\site-packages\\sklearn\\feature_extraction\\text.py:2138\u001b[0m, in \u001b[0;36mTfidfVectorizer.fit_transform\u001b[1;34m(self, raw_documents, y)\u001b[0m\n\u001b[0;32m   2131\u001b[0m \u001b[38;5;28mself\u001b[39m\u001b[38;5;241m.\u001b[39m_check_params()\n\u001b[0;32m   2132\u001b[0m \u001b[38;5;28mself\u001b[39m\u001b[38;5;241m.\u001b[39m_tfidf \u001b[38;5;241m=\u001b[39m TfidfTransformer(\n\u001b[0;32m   2133\u001b[0m     norm\u001b[38;5;241m=\u001b[39m\u001b[38;5;28mself\u001b[39m\u001b[38;5;241m.\u001b[39mnorm,\n\u001b[0;32m   2134\u001b[0m     use_idf\u001b[38;5;241m=\u001b[39m\u001b[38;5;28mself\u001b[39m\u001b[38;5;241m.\u001b[39muse_idf,\n\u001b[0;32m   2135\u001b[0m     smooth_idf\u001b[38;5;241m=\u001b[39m\u001b[38;5;28mself\u001b[39m\u001b[38;5;241m.\u001b[39msmooth_idf,\n\u001b[0;32m   2136\u001b[0m     sublinear_tf\u001b[38;5;241m=\u001b[39m\u001b[38;5;28mself\u001b[39m\u001b[38;5;241m.\u001b[39msublinear_tf,\n\u001b[0;32m   2137\u001b[0m )\n\u001b[1;32m-> 2138\u001b[0m X \u001b[38;5;241m=\u001b[39m \u001b[38;5;28msuper\u001b[39m()\u001b[38;5;241m.\u001b[39mfit_transform(raw_documents)\n\u001b[0;32m   2139\u001b[0m \u001b[38;5;28mself\u001b[39m\u001b[38;5;241m.\u001b[39m_tfidf\u001b[38;5;241m.\u001b[39mfit(X)\n\u001b[0;32m   2140\u001b[0m \u001b[38;5;66;03m# X is already a transformed view of raw_documents so\u001b[39;00m\n\u001b[0;32m   2141\u001b[0m \u001b[38;5;66;03m# we set copy to False\u001b[39;00m\n",
      "File \u001b[1;32m~\\anaconda3\\Lib\\site-packages\\sklearn\\base.py:1474\u001b[0m, in \u001b[0;36m_fit_context.<locals>.decorator.<locals>.wrapper\u001b[1;34m(estimator, *args, **kwargs)\u001b[0m\n\u001b[0;32m   1467\u001b[0m     estimator\u001b[38;5;241m.\u001b[39m_validate_params()\n\u001b[0;32m   1469\u001b[0m \u001b[38;5;28;01mwith\u001b[39;00m config_context(\n\u001b[0;32m   1470\u001b[0m     skip_parameter_validation\u001b[38;5;241m=\u001b[39m(\n\u001b[0;32m   1471\u001b[0m         prefer_skip_nested_validation \u001b[38;5;129;01mor\u001b[39;00m global_skip_validation\n\u001b[0;32m   1472\u001b[0m     )\n\u001b[0;32m   1473\u001b[0m ):\n\u001b[1;32m-> 1474\u001b[0m     \u001b[38;5;28;01mreturn\u001b[39;00m fit_method(estimator, \u001b[38;5;241m*\u001b[39margs, \u001b[38;5;241m*\u001b[39m\u001b[38;5;241m*\u001b[39mkwargs)\n",
      "File \u001b[1;32m~\\anaconda3\\Lib\\site-packages\\sklearn\\feature_extraction\\text.py:1389\u001b[0m, in \u001b[0;36mCountVectorizer.fit_transform\u001b[1;34m(self, raw_documents, y)\u001b[0m\n\u001b[0;32m   1381\u001b[0m             warnings\u001b[38;5;241m.\u001b[39mwarn(\n\u001b[0;32m   1382\u001b[0m                 \u001b[38;5;124m\"\u001b[39m\u001b[38;5;124mUpper case characters found in\u001b[39m\u001b[38;5;124m\"\u001b[39m\n\u001b[0;32m   1383\u001b[0m                 \u001b[38;5;124m\"\u001b[39m\u001b[38;5;124m vocabulary while \u001b[39m\u001b[38;5;124m'\u001b[39m\u001b[38;5;124mlowercase\u001b[39m\u001b[38;5;124m'\u001b[39m\u001b[38;5;124m\"\u001b[39m\n\u001b[0;32m   1384\u001b[0m                 \u001b[38;5;124m\"\u001b[39m\u001b[38;5;124m is True. These entries will not\u001b[39m\u001b[38;5;124m\"\u001b[39m\n\u001b[0;32m   1385\u001b[0m                 \u001b[38;5;124m\"\u001b[39m\u001b[38;5;124m be matched with any documents\u001b[39m\u001b[38;5;124m\"\u001b[39m\n\u001b[0;32m   1386\u001b[0m             )\n\u001b[0;32m   1387\u001b[0m             \u001b[38;5;28;01mbreak\u001b[39;00m\n\u001b[1;32m-> 1389\u001b[0m vocabulary, X \u001b[38;5;241m=\u001b[39m \u001b[38;5;28mself\u001b[39m\u001b[38;5;241m.\u001b[39m_count_vocab(raw_documents, \u001b[38;5;28mself\u001b[39m\u001b[38;5;241m.\u001b[39mfixed_vocabulary_)\n\u001b[0;32m   1391\u001b[0m \u001b[38;5;28;01mif\u001b[39;00m \u001b[38;5;28mself\u001b[39m\u001b[38;5;241m.\u001b[39mbinary:\n\u001b[0;32m   1392\u001b[0m     X\u001b[38;5;241m.\u001b[39mdata\u001b[38;5;241m.\u001b[39mfill(\u001b[38;5;241m1\u001b[39m)\n",
      "File \u001b[1;32m~\\anaconda3\\Lib\\site-packages\\sklearn\\feature_extraction\\text.py:1276\u001b[0m, in \u001b[0;36mCountVectorizer._count_vocab\u001b[1;34m(self, raw_documents, fixed_vocab)\u001b[0m\n\u001b[0;32m   1274\u001b[0m \u001b[38;5;28;01mfor\u001b[39;00m doc \u001b[38;5;129;01min\u001b[39;00m raw_documents:\n\u001b[0;32m   1275\u001b[0m     feature_counter \u001b[38;5;241m=\u001b[39m {}\n\u001b[1;32m-> 1276\u001b[0m     \u001b[38;5;28;01mfor\u001b[39;00m feature \u001b[38;5;129;01min\u001b[39;00m analyze(doc):\n\u001b[0;32m   1277\u001b[0m         \u001b[38;5;28;01mtry\u001b[39;00m:\n\u001b[0;32m   1278\u001b[0m             feature_idx \u001b[38;5;241m=\u001b[39m vocabulary[feature]\n",
      "File \u001b[1;32m~\\anaconda3\\Lib\\site-packages\\sklearn\\feature_extraction\\text.py:110\u001b[0m, in \u001b[0;36m_analyze\u001b[1;34m(doc, analyzer, tokenizer, ngrams, preprocessor, decoder, stop_words)\u001b[0m\n\u001b[0;32m    108\u001b[0m \u001b[38;5;28;01melse\u001b[39;00m:\n\u001b[0;32m    109\u001b[0m     \u001b[38;5;28;01mif\u001b[39;00m preprocessor \u001b[38;5;129;01mis\u001b[39;00m \u001b[38;5;129;01mnot\u001b[39;00m \u001b[38;5;28;01mNone\u001b[39;00m:\n\u001b[1;32m--> 110\u001b[0m         doc \u001b[38;5;241m=\u001b[39m preprocessor(doc)\n\u001b[0;32m    111\u001b[0m     \u001b[38;5;28;01mif\u001b[39;00m tokenizer \u001b[38;5;129;01mis\u001b[39;00m \u001b[38;5;129;01mnot\u001b[39;00m \u001b[38;5;28;01mNone\u001b[39;00m:\n\u001b[0;32m    112\u001b[0m         doc \u001b[38;5;241m=\u001b[39m tokenizer(doc)\n",
      "File \u001b[1;32m~\\anaconda3\\Lib\\site-packages\\sklearn\\feature_extraction\\text.py:68\u001b[0m, in \u001b[0;36m_preprocess\u001b[1;34m(doc, accent_function, lower)\u001b[0m\n\u001b[0;32m     49\u001b[0m \u001b[38;5;250m\u001b[39m\u001b[38;5;124;03m\"\"\"Chain together an optional series of text preprocessing steps to\u001b[39;00m\n\u001b[0;32m     50\u001b[0m \u001b[38;5;124;03mapply to a document.\u001b[39;00m\n\u001b[0;32m     51\u001b[0m \n\u001b[1;32m   (...)\u001b[0m\n\u001b[0;32m     65\u001b[0m \u001b[38;5;124;03m    preprocessed string\u001b[39;00m\n\u001b[0;32m     66\u001b[0m \u001b[38;5;124;03m\"\"\"\u001b[39;00m\n\u001b[0;32m     67\u001b[0m \u001b[38;5;28;01mif\u001b[39;00m lower:\n\u001b[1;32m---> 68\u001b[0m     doc \u001b[38;5;241m=\u001b[39m doc\u001b[38;5;241m.\u001b[39mlower()\n\u001b[0;32m     69\u001b[0m \u001b[38;5;28;01mif\u001b[39;00m accent_function \u001b[38;5;129;01mis\u001b[39;00m \u001b[38;5;129;01mnot\u001b[39;00m \u001b[38;5;28;01mNone\u001b[39;00m:\n\u001b[0;32m     70\u001b[0m     doc \u001b[38;5;241m=\u001b[39m accent_function(doc)\n",
      "\u001b[1;31mAttributeError\u001b[0m: 'list' object has no attribute 'lower'"
     ]
    }
   ],
   "source": [
    "from sklearn.feature_extraction.text import TfidfVectorizer\n",
    "from nltk.corpus import stopwords\n",
    "from sklearn.feature_extraction.text import TfidfVectorizer\n",
    "tfidfconverter=TfidfVectorizer(max_features=8, min_df=5,max_df=0.7, stop_words=stopwords.words('english'))\n",
    "X=tfidfconverter.fit_transform(documents).toarray()"
   ]
  },
  {
   "cell_type": "code",
   "execution_count": 54,
   "id": "9414a554",
   "metadata": {},
   "outputs": [],
   "source": [
    "from sklearn.model_selection import train_test_split\n",
    "x_train,x_test, y_train,y_test= train_test_split(x,y,test_size=0.2)"
   ]
  },
  {
   "cell_type": "code",
   "execution_count": 55,
   "id": "f2c217b5",
   "metadata": {},
   "outputs": [],
   "source": [
    "from sklearn.neighbors import KNeighborsClassifier"
   ]
  },
  {
   "cell_type": "code",
   "execution_count": 56,
   "id": "7d4e73fc",
   "metadata": {},
   "outputs": [
    {
     "ename": "SyntaxError",
     "evalue": "invalid non-printable character U+00A0 (392390768.py, line 1)",
     "output_type": "error",
     "traceback": [
      "\u001b[1;36m  Cell \u001b[1;32mIn[56], line 1\u001b[1;36m\u001b[0m\n\u001b[1;33m    clf = KNeighborsClassifier().fit(x_train, y_train)\u001b[0m\n\u001b[1;37m                                             ^\u001b[0m\n\u001b[1;31mSyntaxError\u001b[0m\u001b[1;31m:\u001b[0m invalid non-printable character U+00A0\n"
     ]
    }
   ],
   "source": [
    "clf = KNeighborsClassifier().fit(x_train, y_train)"
   ]
  },
  {
   "cell_type": "code",
   "execution_count": 57,
   "id": "f7d6ad27",
   "metadata": {},
   "outputs": [
    {
     "ename": "ImportError",
     "evalue": "cannot import name 'train_tes_split' from 'sklearn.model_selection' (C:\\Users\\jades\\anaconda3\\Lib\\site-packages\\sklearn\\model_selection\\__init__.py)",
     "output_type": "error",
     "traceback": [
      "\u001b[1;31m---------------------------------------------------------------------------\u001b[0m",
      "\u001b[1;31mImportError\u001b[0m                               Traceback (most recent call last)",
      "Cell \u001b[1;32mIn[57], line 1\u001b[0m\n\u001b[1;32m----> 1\u001b[0m \u001b[38;5;28;01mfrom\u001b[39;00m \u001b[38;5;21;01msklearn\u001b[39;00m\u001b[38;5;21;01m.\u001b[39;00m\u001b[38;5;21;01mmodel_selection\u001b[39;00m \u001b[38;5;28;01mimport\u001b[39;00m train_tes_split\n\u001b[0;32m      2\u001b[0m x_train, x_test, y_train, y_test, train_test_splt(x,y, test_size\u001b[38;5;241m=\u001b[39m\u001b[38;5;241m0.2\u001b[39m, random_state\u001b[38;5;241m=\u001b[39m\u001b[38;5;241m0\u001b[39m)\n",
      "\u001b[1;31mImportError\u001b[0m: cannot import name 'train_tes_split' from 'sklearn.model_selection' (C:\\Users\\jades\\anaconda3\\Lib\\site-packages\\sklearn\\model_selection\\__init__.py)"
     ]
    }
   ],
   "source": [
    "from sklearn.model_selection import train_tes_split\n",
    "x_train, x_test, y_train, y_test, train_test_splt(x,y, test_size=0.2, random_state=0)"
   ]
  },
  {
   "cell_type": "code",
   "execution_count": 58,
   "id": "9628b3f8",
   "metadata": {},
   "outputs": [
    {
     "ename": "ValueError",
     "evalue": "Expected 2D array, got 1D array instead:\narray=[b'Very disappointed.  Products are very less. Rather one can visit dmart for shopping'\n b'Very bad shop told that the product was free but added it in the bill and took amount very bad service and mannerless staff and management, https://indiapl.com/maharashtra/d-mart-kolhapur-12557'\n b'We stayed during Christmas for 2 nights. Rooms have modern facilities with tab based system.\\r\\n\\r\\nBut beyond that, room was smelly and needs urgent maintenance. Bathroom is very small .\\r\\n\\r\\nBreakfast venue had lot of mosquitoes and can do with touch up as you do not feel like having food in current set up which is quite small.\\r\\n\\r\\nGood location but overpriced unless it spends that money in maintenance and renewal of the property.'\n b'Best for shopping\\r\\nU can get some packaged foods like chips and coldrinks and chill at Rankala.\\xf0\\x9f\\x98\\x9a'\n b'I think best place for medium range and top range dresses'\n b'This Dmart is very spacious having clean and neat washroom, my most fav thing is they have different billing counter based on number of products  cusmtomer, so if you want to buy few things it is easier.'\n b'Fake offers\\r\\nJust tally your Bill with current offers and you will find there is always difference in amount'\n b'For foodies it has Food court at mall with variety with Subway, Chat Bazar, Tandooriwala, Chinese, and best of local Kolhapur food items along with Barbeque Nation at Hotel, Bar with Top view, 24 hours cafe MoonTree, Movie time PVR, shopping with prime brands and many more. Just loved this place'\n b'Nice special reliance mall with reliance trends, reliance mart, \\xe0\\xa4\\xb0\\xe0\\xa4\\xbf\\xe0\\xa4\\xb2\\xe0\\xa4\\xbe\\xe0\\xa4\\xaf\\xe0\\xa4\\xa8\\xe0\\xa5\\x8d\\xe0\\xa4\\xb8 footprint and \\xe0\\xa4\\xb0\\xe0\\xa4\\xbf\\xe0\\xa4\\xb2\\xe0\\xa4\\xbe\\xe0\\xa4\\xaf\\xe0\\xa4\\xa8\\xe0\\xa5\\x8d\\xe0\\xa4\\xb8 \\xe0\\xa4\\xa1\\xe0\\xa4\\xbf\\xe0\\xa4\\x9c\\xe0\\xa4\\xbf\\xe0\\xa4\\x9f\\xe0\\xa4\\xb2. The mall is very spacious and clean.'\n b'This is my 3rd visit to this hotel staying two weeks on all occasions.\\r\\nThe hotel is fine and food very India orientated with little English food, but still ok. You have 3 restaurants of choice which I preferred the poolside restaurant as greater selection.\\r\\n\\r\\nThe only problem been the entertainment, the nightly singer is awful, really awful.....\\r\\nChange required'\n b\"There are very few people in reliance Mall to help you with your groceries. The discount prices are not the same when you're billing at the counter.\\r\\n\"\n b'nice place for shopping.good location\\r\\n '\n b'A wide variety of daily needed things. Super discounts. Crockery, clothing, footware, snacks, cold drinks, stationary, novelty all in one place. Free Parking available. Changing rooms available. Luggage security options.'\n b'Reliance Mall is a dedicated mall for Reliance brands like Trends , Trends Footwear, Reliance Smart etc, they provide free parking, big space for parking and nice property for shopping,'\n b'Parking not proper enterance and exit is same so feel truble...no man power found for direction'\n b'Better than other malls.\\r\\n' b'left facilities are not available.'\n b'Low cost products.\\r\\nBe aware while buying electric products.\\r\\nSome products are made in china having PRC tag on it'\n b'Good mall. Parking was free. Food court is good. Major shops are there for shopping. McDonalds on ground floor. Mall is good in size to roam around. Would recommend to visit here when in Kolhapur.\\r\\n\\r\\n\\r\\n'\n b'Brilliant mall with various variety of products.'\n b'Nice mall.. All facilities..Must visit this mall..'\n b'The DYP City mall near the DYPatil group owned Sayaji Hotel, lies a medium to small sized mall, where 2-3 brands like Shoppers Stop, PVR, McDonalds etc occupy majority of the real estate. It has a food court too with some cuisine choices. Not a great place, but the locals seems to appreciate this mall a lot. My family watched a movie at the PVR cinema in this mall.'\n b\"I won't get anything to buy here. Just a merketing gimik it seems. The cloth piece you like will definately dont have an offer on it.they just make you buy more and eventually you will buy those cloths which are out of fashion or you won't ware it anywhere.\"\n b'One stop destination to buy groceries, garments, electronic equipment and footwear. Ample parking space available. They offer very good discounts on groceries, garments and footwear.'\n b'Overall good experience,\\r\\nMostly you will get all you want'\n b'A little bit smaller than the other Dmart but overall good experience. Friendly staff and organised stuff.'\n b'We can shop more or less every household needs in good price.\\r\\n'\n b'Very good place.......\\r\\nMcDonald, subway, shoppers stop....\\r\\nPVR cinemas..\\r\\nAll under 1 roof.\\r\\nOverall nice mall'\n b'One of the worst shop I have ever experienced,they don`t have sense to give service, from my personal experience don`t buy any material from here.. worst shop worst service worst experience, instead of buying here buy goods from anywhere else but not from here. No service at all. Please don`t buy anything from here.'\n b'Right from the receptionist to everyone in the hotel\\xe2\\x80\\xa6 from food to room service everything is just the worst and not at all worth it\\xe2\\x80\\xa6. Sagar, Ishwar and Juhi are the only staff who really care for the guests in the hotel\\xe2\\x80\\xa6 everyone else is least bothered\\xe2\\x80\\xa6. Worst ever food experience\\xe2\\x80\\xa6. Food quality and stale and pathetic'\n b'no good offers were there. All shops are not open yet. Good if looking for less crowded malls and having reliance coupons.\\r\\n'\n b'two level basement parking. There are stalls of cheap useful items soar from the Mentioned stores having great deals for saving money'\n b'had read the reviews and did enter the mall but was disappointed.not much of a choice infact looked like a mini mall...the only good thing is the PVR cinemas. Not much even to pass ones time. Would not recomend the same... i was out of it in half an hour.\\r\\n'\n b'The only main spot happens to be the Shoppers stop,\\r\\nthree floors of sprawling shoppers stop. Most other small shops are sidelined.\\r\\nNo kids area and gaming.\\r\\nGood access as centrally located. Parking available\\r\\nRecommended only if you badly want to go to a Mall in Kolhapur.'\n b'Worst service by the workers and manager, I all the way traveled 150 km for the D Mart shopping and they only allow me to buy 2 items each products.'\n b'We stayed during Christmas for 2 nights. Rooms have modern facilities with tab based system.\\r\\n\\r\\nBut beyond that, room was smelly and needs urgent maintenance. Bathroom is very small .\\r\\n\\r\\nBreakfast venue had lot of mosquitoes and can do with touch up as you do not feel like having food in current set up which is quite small.\\r\\n\\r\\nGood location but overpriced unless it spends that money in maintenance and renewal of the property.'\n b'If you want a best mall in kolhapur you want to come hear... . it is like dream city.. You can watch movies or you can enjoy other things. DYP city is the best in kolhapur.'\n b'We visited this mall to spend some evening time. Parking area was good. Washrooms were clean. They have good shopping /restaurants / Theatre options. Overall it was a good vibe. We had some food and played Ice hockey. We then did some window shopping. Theatre was screening Tenant movie at the time. Recommended to visit.'\n b'Not sharing this angrily, but yesterday I need only 10 pizza bases,for a little function in my home, but they refused to give me that quantity, they say, \"we need to keep stock\" whereas 100s of packed pizza bases lied over there. Worst policy.'\n b'I went to DYP City Mall. The mall is replete with outlets of apparels, cosmetics, jewellery, toys, footwear, accessories, bags etc. Besides, it has a massive parking space and boasts of a huge food court with several food chains and eateries. It is great place to go.'\n b'Place is good and most busy on weekends you can enjoy the crowd and also the ancient lake namely Rankala. Rankala lake is ancient you can have various food vans and enjoy the tasty street food. In the evening for the family who plan shopping and also enjoy vacation on this spot.'\n b\"House keeping was good, however reception wasn't ok. They missed my buffet meal even after confirmation over the mail. During check out I had to wait for more than 40 mins for my cab which was also confirmed and reminded on previous night. Due to this, I was very close to miss my flight. Not happy at all with front desk.\"\n b'very disappointing service by Reliance Smart Staff. Even discounted and offer products are sold on MRP!!!!!!!!! Customer service is very poor. When i told them to apply the offer only then the staff applied the discounted price\\xe2\\x80\\xa6!!!! Some products were not getting scanned in their system and they said we can sell these, then why keep them on display!! Very disappointing experience.\\r\\n1'\n b'Good option for groceries.. floor space is bit less than tarabai park.. but all the good products available\\r\\n'\n b'Great place for the people who love shopping. Best spot to spend your weekend, enjoy movie at PVR, have food at the different restaurants in this mall.'\n b'Nice place for sample amount of trialing the clothes, gifts option available, coupons accepted'\n b'we stayed at this for a short while. We had requested for twin room however instead were given a double room. I specifically had called to request for twin beds.\\r\\nReception were very hospitable and we were given room on 9th floor.\\r\\nRoom was decent but can do better with cleaning and also there was a very bad smell in room. Possible it was recently renovated.'\n b'Now i am purched Xerox paper Reem..There Packing All time loos or Paper quantity is low ...Or Store manager Are says its not my working ...So badly Taking with customer ..so please stoping this Case'].\nReshape your data either using array.reshape(-1, 1) if your data has a single feature or array.reshape(1, -1) if it contains a single sample.",
     "output_type": "error",
     "traceback": [
      "\u001b[1;31m---------------------------------------------------------------------------\u001b[0m",
      "\u001b[1;31mValueError\u001b[0m                                Traceback (most recent call last)",
      "Cell \u001b[1;32mIn[58], line 2\u001b[0m\n\u001b[0;32m      1\u001b[0m \u001b[38;5;28;01mfrom\u001b[39;00m \u001b[38;5;21;01msklearn\u001b[39;00m\u001b[38;5;21;01m.\u001b[39;00m\u001b[38;5;21;01mneighbors\u001b[39;00m \u001b[38;5;28;01mimport\u001b[39;00m KNeighborsClassifier\n\u001b[1;32m----> 2\u001b[0m clf \u001b[38;5;241m=\u001b[39m  KNeighborsClassifier()\u001b[38;5;241m.\u001b[39mfit(x_train, y_train)\n",
      "File \u001b[1;32m~\\anaconda3\\Lib\\site-packages\\sklearn\\base.py:1474\u001b[0m, in \u001b[0;36m_fit_context.<locals>.decorator.<locals>.wrapper\u001b[1;34m(estimator, *args, **kwargs)\u001b[0m\n\u001b[0;32m   1467\u001b[0m     estimator\u001b[38;5;241m.\u001b[39m_validate_params()\n\u001b[0;32m   1469\u001b[0m \u001b[38;5;28;01mwith\u001b[39;00m config_context(\n\u001b[0;32m   1470\u001b[0m     skip_parameter_validation\u001b[38;5;241m=\u001b[39m(\n\u001b[0;32m   1471\u001b[0m         prefer_skip_nested_validation \u001b[38;5;129;01mor\u001b[39;00m global_skip_validation\n\u001b[0;32m   1472\u001b[0m     )\n\u001b[0;32m   1473\u001b[0m ):\n\u001b[1;32m-> 1474\u001b[0m     \u001b[38;5;28;01mreturn\u001b[39;00m fit_method(estimator, \u001b[38;5;241m*\u001b[39margs, \u001b[38;5;241m*\u001b[39m\u001b[38;5;241m*\u001b[39mkwargs)\n",
      "File \u001b[1;32m~\\anaconda3\\Lib\\site-packages\\sklearn\\neighbors\\_classification.py:238\u001b[0m, in \u001b[0;36mKNeighborsClassifier.fit\u001b[1;34m(self, X, y)\u001b[0m\n\u001b[0;32m    216\u001b[0m \u001b[38;5;129m@_fit_context\u001b[39m(\n\u001b[0;32m    217\u001b[0m     \u001b[38;5;66;03m# KNeighborsClassifier.metric is not validated yet\u001b[39;00m\n\u001b[0;32m    218\u001b[0m     prefer_skip_nested_validation\u001b[38;5;241m=\u001b[39m\u001b[38;5;28;01mFalse\u001b[39;00m\n\u001b[0;32m    219\u001b[0m )\n\u001b[0;32m    220\u001b[0m \u001b[38;5;28;01mdef\u001b[39;00m \u001b[38;5;21mfit\u001b[39m(\u001b[38;5;28mself\u001b[39m, X, y):\n\u001b[0;32m    221\u001b[0m \u001b[38;5;250m    \u001b[39m\u001b[38;5;124;03m\"\"\"Fit the k-nearest neighbors classifier from the training dataset.\u001b[39;00m\n\u001b[0;32m    222\u001b[0m \n\u001b[0;32m    223\u001b[0m \u001b[38;5;124;03m    Parameters\u001b[39;00m\n\u001b[1;32m   (...)\u001b[0m\n\u001b[0;32m    236\u001b[0m \u001b[38;5;124;03m        The fitted k-nearest neighbors classifier.\u001b[39;00m\n\u001b[0;32m    237\u001b[0m \u001b[38;5;124;03m    \"\"\"\u001b[39;00m\n\u001b[1;32m--> 238\u001b[0m     \u001b[38;5;28;01mreturn\u001b[39;00m \u001b[38;5;28mself\u001b[39m\u001b[38;5;241m.\u001b[39m_fit(X, y)\n",
      "File \u001b[1;32m~\\anaconda3\\Lib\\site-packages\\sklearn\\neighbors\\_base.py:476\u001b[0m, in \u001b[0;36mNeighborsBase._fit\u001b[1;34m(self, X, y)\u001b[0m\n\u001b[0;32m    474\u001b[0m \u001b[38;5;28;01mif\u001b[39;00m \u001b[38;5;28mself\u001b[39m\u001b[38;5;241m.\u001b[39m_get_tags()[\u001b[38;5;124m\"\u001b[39m\u001b[38;5;124mrequires_y\u001b[39m\u001b[38;5;124m\"\u001b[39m]:\n\u001b[0;32m    475\u001b[0m     \u001b[38;5;28;01mif\u001b[39;00m \u001b[38;5;129;01mnot\u001b[39;00m \u001b[38;5;28misinstance\u001b[39m(X, (KDTree, BallTree, NeighborsBase)):\n\u001b[1;32m--> 476\u001b[0m         X, y \u001b[38;5;241m=\u001b[39m \u001b[38;5;28mself\u001b[39m\u001b[38;5;241m.\u001b[39m_validate_data(\n\u001b[0;32m    477\u001b[0m             X, y, accept_sparse\u001b[38;5;241m=\u001b[39m\u001b[38;5;124m\"\u001b[39m\u001b[38;5;124mcsr\u001b[39m\u001b[38;5;124m\"\u001b[39m, multi_output\u001b[38;5;241m=\u001b[39m\u001b[38;5;28;01mTrue\u001b[39;00m, order\u001b[38;5;241m=\u001b[39m\u001b[38;5;124m\"\u001b[39m\u001b[38;5;124mC\u001b[39m\u001b[38;5;124m\"\u001b[39m\n\u001b[0;32m    478\u001b[0m         )\n\u001b[0;32m    480\u001b[0m     \u001b[38;5;28;01mif\u001b[39;00m is_classifier(\u001b[38;5;28mself\u001b[39m):\n\u001b[0;32m    481\u001b[0m         \u001b[38;5;66;03m# Classification targets require a specific format\u001b[39;00m\n\u001b[0;32m    482\u001b[0m         \u001b[38;5;28;01mif\u001b[39;00m y\u001b[38;5;241m.\u001b[39mndim \u001b[38;5;241m==\u001b[39m \u001b[38;5;241m1\u001b[39m \u001b[38;5;129;01mor\u001b[39;00m y\u001b[38;5;241m.\u001b[39mndim \u001b[38;5;241m==\u001b[39m \u001b[38;5;241m2\u001b[39m \u001b[38;5;129;01mand\u001b[39;00m y\u001b[38;5;241m.\u001b[39mshape[\u001b[38;5;241m1\u001b[39m] \u001b[38;5;241m==\u001b[39m \u001b[38;5;241m1\u001b[39m:\n",
      "File \u001b[1;32m~\\anaconda3\\Lib\\site-packages\\sklearn\\base.py:650\u001b[0m, in \u001b[0;36mBaseEstimator._validate_data\u001b[1;34m(self, X, y, reset, validate_separately, cast_to_ndarray, **check_params)\u001b[0m\n\u001b[0;32m    648\u001b[0m         y \u001b[38;5;241m=\u001b[39m check_array(y, input_name\u001b[38;5;241m=\u001b[39m\u001b[38;5;124m\"\u001b[39m\u001b[38;5;124my\u001b[39m\u001b[38;5;124m\"\u001b[39m, \u001b[38;5;241m*\u001b[39m\u001b[38;5;241m*\u001b[39mcheck_y_params)\n\u001b[0;32m    649\u001b[0m     \u001b[38;5;28;01melse\u001b[39;00m:\n\u001b[1;32m--> 650\u001b[0m         X, y \u001b[38;5;241m=\u001b[39m check_X_y(X, y, \u001b[38;5;241m*\u001b[39m\u001b[38;5;241m*\u001b[39mcheck_params)\n\u001b[0;32m    651\u001b[0m     out \u001b[38;5;241m=\u001b[39m X, y\n\u001b[0;32m    653\u001b[0m \u001b[38;5;28;01mif\u001b[39;00m \u001b[38;5;129;01mnot\u001b[39;00m no_val_X \u001b[38;5;129;01mand\u001b[39;00m check_params\u001b[38;5;241m.\u001b[39mget(\u001b[38;5;124m\"\u001b[39m\u001b[38;5;124mensure_2d\u001b[39m\u001b[38;5;124m\"\u001b[39m, \u001b[38;5;28;01mTrue\u001b[39;00m):\n",
      "File \u001b[1;32m~\\anaconda3\\Lib\\site-packages\\sklearn\\utils\\validation.py:1263\u001b[0m, in \u001b[0;36mcheck_X_y\u001b[1;34m(X, y, accept_sparse, accept_large_sparse, dtype, order, copy, force_all_finite, ensure_2d, allow_nd, multi_output, ensure_min_samples, ensure_min_features, y_numeric, estimator)\u001b[0m\n\u001b[0;32m   1258\u001b[0m         estimator_name \u001b[38;5;241m=\u001b[39m _check_estimator_name(estimator)\n\u001b[0;32m   1259\u001b[0m     \u001b[38;5;28;01mraise\u001b[39;00m \u001b[38;5;167;01mValueError\u001b[39;00m(\n\u001b[0;32m   1260\u001b[0m         \u001b[38;5;124mf\u001b[39m\u001b[38;5;124m\"\u001b[39m\u001b[38;5;132;01m{\u001b[39;00mestimator_name\u001b[38;5;132;01m}\u001b[39;00m\u001b[38;5;124m requires y to be passed, but the target y is None\u001b[39m\u001b[38;5;124m\"\u001b[39m\n\u001b[0;32m   1261\u001b[0m     )\n\u001b[1;32m-> 1263\u001b[0m X \u001b[38;5;241m=\u001b[39m check_array(\n\u001b[0;32m   1264\u001b[0m     X,\n\u001b[0;32m   1265\u001b[0m     accept_sparse\u001b[38;5;241m=\u001b[39maccept_sparse,\n\u001b[0;32m   1266\u001b[0m     accept_large_sparse\u001b[38;5;241m=\u001b[39maccept_large_sparse,\n\u001b[0;32m   1267\u001b[0m     dtype\u001b[38;5;241m=\u001b[39mdtype,\n\u001b[0;32m   1268\u001b[0m     order\u001b[38;5;241m=\u001b[39morder,\n\u001b[0;32m   1269\u001b[0m     copy\u001b[38;5;241m=\u001b[39mcopy,\n\u001b[0;32m   1270\u001b[0m     force_all_finite\u001b[38;5;241m=\u001b[39mforce_all_finite,\n\u001b[0;32m   1271\u001b[0m     ensure_2d\u001b[38;5;241m=\u001b[39mensure_2d,\n\u001b[0;32m   1272\u001b[0m     allow_nd\u001b[38;5;241m=\u001b[39mallow_nd,\n\u001b[0;32m   1273\u001b[0m     ensure_min_samples\u001b[38;5;241m=\u001b[39mensure_min_samples,\n\u001b[0;32m   1274\u001b[0m     ensure_min_features\u001b[38;5;241m=\u001b[39mensure_min_features,\n\u001b[0;32m   1275\u001b[0m     estimator\u001b[38;5;241m=\u001b[39mestimator,\n\u001b[0;32m   1276\u001b[0m     input_name\u001b[38;5;241m=\u001b[39m\u001b[38;5;124m\"\u001b[39m\u001b[38;5;124mX\u001b[39m\u001b[38;5;124m\"\u001b[39m,\n\u001b[0;32m   1277\u001b[0m )\n\u001b[0;32m   1279\u001b[0m y \u001b[38;5;241m=\u001b[39m _check_y(y, multi_output\u001b[38;5;241m=\u001b[39mmulti_output, y_numeric\u001b[38;5;241m=\u001b[39my_numeric, estimator\u001b[38;5;241m=\u001b[39mestimator)\n\u001b[0;32m   1281\u001b[0m check_consistent_length(X, y)\n",
      "File \u001b[1;32m~\\anaconda3\\Lib\\site-packages\\sklearn\\utils\\validation.py:1035\u001b[0m, in \u001b[0;36mcheck_array\u001b[1;34m(array, accept_sparse, accept_large_sparse, dtype, order, copy, force_all_finite, ensure_2d, allow_nd, ensure_min_samples, ensure_min_features, estimator, input_name)\u001b[0m\n\u001b[0;32m   1028\u001b[0m         \u001b[38;5;28;01melse\u001b[39;00m:\n\u001b[0;32m   1029\u001b[0m             msg \u001b[38;5;241m=\u001b[39m (\n\u001b[0;32m   1030\u001b[0m                 \u001b[38;5;124mf\u001b[39m\u001b[38;5;124m\"\u001b[39m\u001b[38;5;124mExpected 2D array, got 1D array instead:\u001b[39m\u001b[38;5;130;01m\\n\u001b[39;00m\u001b[38;5;124marray=\u001b[39m\u001b[38;5;132;01m{\u001b[39;00marray\u001b[38;5;132;01m}\u001b[39;00m\u001b[38;5;124m.\u001b[39m\u001b[38;5;130;01m\\n\u001b[39;00m\u001b[38;5;124m\"\u001b[39m\n\u001b[0;32m   1031\u001b[0m                 \u001b[38;5;124m\"\u001b[39m\u001b[38;5;124mReshape your data either using array.reshape(-1, 1) if \u001b[39m\u001b[38;5;124m\"\u001b[39m\n\u001b[0;32m   1032\u001b[0m                 \u001b[38;5;124m\"\u001b[39m\u001b[38;5;124myour data has a single feature or array.reshape(1, -1) \u001b[39m\u001b[38;5;124m\"\u001b[39m\n\u001b[0;32m   1033\u001b[0m                 \u001b[38;5;124m\"\u001b[39m\u001b[38;5;124mif it contains a single sample.\u001b[39m\u001b[38;5;124m\"\u001b[39m\n\u001b[0;32m   1034\u001b[0m             )\n\u001b[1;32m-> 1035\u001b[0m         \u001b[38;5;28;01mraise\u001b[39;00m \u001b[38;5;167;01mValueError\u001b[39;00m(msg)\n\u001b[0;32m   1037\u001b[0m \u001b[38;5;28;01mif\u001b[39;00m dtype_numeric \u001b[38;5;129;01mand\u001b[39;00m \u001b[38;5;28mhasattr\u001b[39m(array\u001b[38;5;241m.\u001b[39mdtype, \u001b[38;5;124m\"\u001b[39m\u001b[38;5;124mkind\u001b[39m\u001b[38;5;124m\"\u001b[39m) \u001b[38;5;129;01mand\u001b[39;00m array\u001b[38;5;241m.\u001b[39mdtype\u001b[38;5;241m.\u001b[39mkind \u001b[38;5;129;01min\u001b[39;00m \u001b[38;5;124m\"\u001b[39m\u001b[38;5;124mUSV\u001b[39m\u001b[38;5;124m\"\u001b[39m:\n\u001b[0;32m   1038\u001b[0m     \u001b[38;5;28;01mraise\u001b[39;00m \u001b[38;5;167;01mValueError\u001b[39;00m(\n\u001b[0;32m   1039\u001b[0m         \u001b[38;5;124m\"\u001b[39m\u001b[38;5;124mdtype=\u001b[39m\u001b[38;5;124m'\u001b[39m\u001b[38;5;124mnumeric\u001b[39m\u001b[38;5;124m'\u001b[39m\u001b[38;5;124m is not compatible with arrays of bytes/strings.\u001b[39m\u001b[38;5;124m\"\u001b[39m\n\u001b[0;32m   1040\u001b[0m         \u001b[38;5;124m\"\u001b[39m\u001b[38;5;124mConvert your data to numeric values explicitly instead.\u001b[39m\u001b[38;5;124m\"\u001b[39m\n\u001b[0;32m   1041\u001b[0m     )\n",
      "\u001b[1;31mValueError\u001b[0m: Expected 2D array, got 1D array instead:\narray=[b'Very disappointed.  Products are very less. Rather one can visit dmart for shopping'\n b'Very bad shop told that the product was free but added it in the bill and took amount very bad service and mannerless staff and management, https://indiapl.com/maharashtra/d-mart-kolhapur-12557'\n b'We stayed during Christmas for 2 nights. Rooms have modern facilities with tab based system.\\r\\n\\r\\nBut beyond that, room was smelly and needs urgent maintenance. Bathroom is very small .\\r\\n\\r\\nBreakfast venue had lot of mosquitoes and can do with touch up as you do not feel like having food in current set up which is quite small.\\r\\n\\r\\nGood location but overpriced unless it spends that money in maintenance and renewal of the property.'\n b'Best for shopping\\r\\nU can get some packaged foods like chips and coldrinks and chill at Rankala.\\xf0\\x9f\\x98\\x9a'\n b'I think best place for medium range and top range dresses'\n b'This Dmart is very spacious having clean and neat washroom, my most fav thing is they have different billing counter based on number of products  cusmtomer, so if you want to buy few things it is easier.'\n b'Fake offers\\r\\nJust tally your Bill with current offers and you will find there is always difference in amount'\n b'For foodies it has Food court at mall with variety with Subway, Chat Bazar, Tandooriwala, Chinese, and best of local Kolhapur food items along with Barbeque Nation at Hotel, Bar with Top view, 24 hours cafe MoonTree, Movie time PVR, shopping with prime brands and many more. Just loved this place'\n b'Nice special reliance mall with reliance trends, reliance mart, \\xe0\\xa4\\xb0\\xe0\\xa4\\xbf\\xe0\\xa4\\xb2\\xe0\\xa4\\xbe\\xe0\\xa4\\xaf\\xe0\\xa4\\xa8\\xe0\\xa5\\x8d\\xe0\\xa4\\xb8 footprint and \\xe0\\xa4\\xb0\\xe0\\xa4\\xbf\\xe0\\xa4\\xb2\\xe0\\xa4\\xbe\\xe0\\xa4\\xaf\\xe0\\xa4\\xa8\\xe0\\xa5\\x8d\\xe0\\xa4\\xb8 \\xe0\\xa4\\xa1\\xe0\\xa4\\xbf\\xe0\\xa4\\x9c\\xe0\\xa4\\xbf\\xe0\\xa4\\x9f\\xe0\\xa4\\xb2. The mall is very spacious and clean.'\n b'This is my 3rd visit to this hotel staying two weeks on all occasions.\\r\\nThe hotel is fine and food very India orientated with little English food, but still ok. You have 3 restaurants of choice which I preferred the poolside restaurant as greater selection.\\r\\n\\r\\nThe only problem been the entertainment, the nightly singer is awful, really awful.....\\r\\nChange required'\n b\"There are very few people in reliance Mall to help you with your groceries. The discount prices are not the same when you're billing at the counter.\\r\\n\"\n b'nice place for shopping.good location\\r\\n '\n b'A wide variety of daily needed things. Super discounts. Crockery, clothing, footware, snacks, cold drinks, stationary, novelty all in one place. Free Parking available. Changing rooms available. Luggage security options.'\n b'Reliance Mall is a dedicated mall for Reliance brands like Trends , Trends Footwear, Reliance Smart etc, they provide free parking, big space for parking and nice property for shopping,'\n b'Parking not proper enterance and exit is same so feel truble...no man power found for direction'\n b'Better than other malls.\\r\\n' b'left facilities are not available.'\n b'Low cost products.\\r\\nBe aware while buying electric products.\\r\\nSome products are made in china having PRC tag on it'\n b'Good mall. Parking was free. Food court is good. Major shops are there for shopping. McDonalds on ground floor. Mall is good in size to roam around. Would recommend to visit here when in Kolhapur.\\r\\n\\r\\n\\r\\n'\n b'Brilliant mall with various variety of products.'\n b'Nice mall.. All facilities..Must visit this mall..'\n b'The DYP City mall near the DYPatil group owned Sayaji Hotel, lies a medium to small sized mall, where 2-3 brands like Shoppers Stop, PVR, McDonalds etc occupy majority of the real estate. It has a food court too with some cuisine choices. Not a great place, but the locals seems to appreciate this mall a lot. My family watched a movie at the PVR cinema in this mall.'\n b\"I won't get anything to buy here. Just a merketing gimik it seems. The cloth piece you like will definately dont have an offer on it.they just make you buy more and eventually you will buy those cloths which are out of fashion or you won't ware it anywhere.\"\n b'One stop destination to buy groceries, garments, electronic equipment and footwear. Ample parking space available. They offer very good discounts on groceries, garments and footwear.'\n b'Overall good experience,\\r\\nMostly you will get all you want'\n b'A little bit smaller than the other Dmart but overall good experience. Friendly staff and organised stuff.'\n b'We can shop more or less every household needs in good price.\\r\\n'\n b'Very good place.......\\r\\nMcDonald, subway, shoppers stop....\\r\\nPVR cinemas..\\r\\nAll under 1 roof.\\r\\nOverall nice mall'\n b'One of the worst shop I have ever experienced,they don`t have sense to give service, from my personal experience don`t buy any material from here.. worst shop worst service worst experience, instead of buying here buy goods from anywhere else but not from here. No service at all. Please don`t buy anything from here.'\n b'Right from the receptionist to everyone in the hotel\\xe2\\x80\\xa6 from food to room service everything is just the worst and not at all worth it\\xe2\\x80\\xa6. Sagar, Ishwar and Juhi are the only staff who really care for the guests in the hotel\\xe2\\x80\\xa6 everyone else is least bothered\\xe2\\x80\\xa6. Worst ever food experience\\xe2\\x80\\xa6. Food quality and stale and pathetic'\n b'no good offers were there. All shops are not open yet. Good if looking for less crowded malls and having reliance coupons.\\r\\n'\n b'two level basement parking. There are stalls of cheap useful items soar from the Mentioned stores having great deals for saving money'\n b'had read the reviews and did enter the mall but was disappointed.not much of a choice infact looked like a mini mall...the only good thing is the PVR cinemas. Not much even to pass ones time. Would not recomend the same... i was out of it in half an hour.\\r\\n'\n b'The only main spot happens to be the Shoppers stop,\\r\\nthree floors of sprawling shoppers stop. Most other small shops are sidelined.\\r\\nNo kids area and gaming.\\r\\nGood access as centrally located. Parking available\\r\\nRecommended only if you badly want to go to a Mall in Kolhapur.'\n b'Worst service by the workers and manager, I all the way traveled 150 km for the D Mart shopping and they only allow me to buy 2 items each products.'\n b'We stayed during Christmas for 2 nights. Rooms have modern facilities with tab based system.\\r\\n\\r\\nBut beyond that, room was smelly and needs urgent maintenance. Bathroom is very small .\\r\\n\\r\\nBreakfast venue had lot of mosquitoes and can do with touch up as you do not feel like having food in current set up which is quite small.\\r\\n\\r\\nGood location but overpriced unless it spends that money in maintenance and renewal of the property.'\n b'If you want a best mall in kolhapur you want to come hear... . it is like dream city.. You can watch movies or you can enjoy other things. DYP city is the best in kolhapur.'\n b'We visited this mall to spend some evening time. Parking area was good. Washrooms were clean. They have good shopping /restaurants / Theatre options. Overall it was a good vibe. We had some food and played Ice hockey. We then did some window shopping. Theatre was screening Tenant movie at the time. Recommended to visit.'\n b'Not sharing this angrily, but yesterday I need only 10 pizza bases,for a little function in my home, but they refused to give me that quantity, they say, \"we need to keep stock\" whereas 100s of packed pizza bases lied over there. Worst policy.'\n b'I went to DYP City Mall. The mall is replete with outlets of apparels, cosmetics, jewellery, toys, footwear, accessories, bags etc. Besides, it has a massive parking space and boasts of a huge food court with several food chains and eateries. It is great place to go.'\n b'Place is good and most busy on weekends you can enjoy the crowd and also the ancient lake namely Rankala. Rankala lake is ancient you can have various food vans and enjoy the tasty street food. In the evening for the family who plan shopping and also enjoy vacation on this spot.'\n b\"House keeping was good, however reception wasn't ok. They missed my buffet meal even after confirmation over the mail. During check out I had to wait for more than 40 mins for my cab which was also confirmed and reminded on previous night. Due to this, I was very close to miss my flight. Not happy at all with front desk.\"\n b'very disappointing service by Reliance Smart Staff. Even discounted and offer products are sold on MRP!!!!!!!!! Customer service is very poor. When i told them to apply the offer only then the staff applied the discounted price\\xe2\\x80\\xa6!!!! Some products were not getting scanned in their system and they said we can sell these, then why keep them on display!! Very disappointing experience.\\r\\n1'\n b'Good option for groceries.. floor space is bit less than tarabai park.. but all the good products available\\r\\n'\n b'Great place for the people who love shopping. Best spot to spend your weekend, enjoy movie at PVR, have food at the different restaurants in this mall.'\n b'Nice place for sample amount of trialing the clothes, gifts option available, coupons accepted'\n b'we stayed at this for a short while. We had requested for twin room however instead were given a double room. I specifically had called to request for twin beds.\\r\\nReception were very hospitable and we were given room on 9th floor.\\r\\nRoom was decent but can do better with cleaning and also there was a very bad smell in room. Possible it was recently renovated.'\n b'Now i am purched Xerox paper Reem..There Packing All time loos or Paper quantity is low ...Or Store manager Are says its not my working ...So badly Taking with customer ..so please stoping this Case'].\nReshape your data either using array.reshape(-1, 1) if your data has a single feature or array.reshape(1, -1) if it contains a single sample."
     ]
    }
   ],
   "source": [
    "from sklearn.neighbors import KNeighborsClassifier\n",
    "clf =  KNeighborsClassifier().fit(x_train, y_train)"
   ]
  },
  {
   "cell_type": "code",
   "execution_count": 42,
   "id": "bc41c1e7",
   "metadata": {},
   "outputs": [
    {
     "ename": "NameError",
     "evalue": "name 'clf' is not defined",
     "output_type": "error",
     "traceback": [
      "\u001b[1;31m---------------------------------------------------------------------------\u001b[0m",
      "\u001b[1;31mNameError\u001b[0m                                 Traceback (most recent call last)",
      "Cell \u001b[1;32mIn[42], line 1\u001b[0m\n\u001b[1;32m----> 1\u001b[0m y_pred\u001b[38;5;241m=\u001b[39mclf\u001b[38;5;241m.\u001b[39mpredict(x_test)\n\u001b[0;32m      2\u001b[0m \u001b[38;5;28mprint\u001b[39m(y_pred)\n",
      "\u001b[1;31mNameError\u001b[0m: name 'clf' is not defined"
     ]
    }
   ],
   "source": [
    "y_pred=clf.predict(x_test)\n",
    "print(y_pred)"
   ]
  },
  {
   "cell_type": "code",
   "execution_count": 43,
   "id": "42c729da",
   "metadata": {},
   "outputs": [
    {
     "ename": "NameError",
     "evalue": "name 'y_pred' is not defined",
     "output_type": "error",
     "traceback": [
      "\u001b[1;31m---------------------------------------------------------------------------\u001b[0m",
      "\u001b[1;31mNameError\u001b[0m                                 Traceback (most recent call last)",
      "Cell \u001b[1;32mIn[43], line 2\u001b[0m\n\u001b[0;32m      1\u001b[0m \u001b[38;5;28;01mfrom\u001b[39;00m \u001b[38;5;21;01msklearn\u001b[39;00m\u001b[38;5;21;01m.\u001b[39;00m\u001b[38;5;21;01mmetrics\u001b[39;00m \u001b[38;5;28;01mimport\u001b[39;00m classification_report , confusion_matrix, accuracy_score\n\u001b[1;32m----> 2\u001b[0m \u001b[38;5;28mprint\u001b[39m(confusion_matrix(y_test,y_pred))\n\u001b[0;32m      3\u001b[0m \u001b[38;5;28mprint\u001b[39m(classification_report(y_test,y_pred))\n\u001b[0;32m      4\u001b[0m \u001b[38;5;28mprint\u001b[39m(accuracy(y_test,y_pred))\n",
      "\u001b[1;31mNameError\u001b[0m: name 'y_pred' is not defined"
     ]
    }
   ],
   "source": [
    "from sklearn.metrics import classification_report , confusion_matrix, accuracy_score\n",
    "print(confusion_matrix(y_test,y_pred))\n",
    "print(classification_report(y_test,y_pred))\n",
    "print(accuracy(y_test,y_pred))"
   ]
  },
  {
   "cell_type": "code",
   "execution_count": null,
   "id": "9f014ed4",
   "metadata": {},
   "outputs": [],
   "source": []
  },
  {
   "cell_type": "code",
   "execution_count": null,
   "id": "b287f0e8",
   "metadata": {},
   "outputs": [],
   "source": []
  },
  {
   "cell_type": "code",
   "execution_count": null,
   "id": "2235fe25",
   "metadata": {},
   "outputs": [],
   "source": []
  }
 ],
 "metadata": {
  "kernelspec": {
   "display_name": "Python 3 (ipykernel)",
   "language": "python",
   "name": "python3"
  },
  "language_info": {
   "codemirror_mode": {
    "name": "ipython",
    "version": 3
   },
   "file_extension": ".py",
   "mimetype": "text/x-python",
   "name": "python",
   "nbconvert_exporter": "python",
   "pygments_lexer": "ipython3",
   "version": "3.11.4"
  }
 },
 "nbformat": 4,
 "nbformat_minor": 5
}
